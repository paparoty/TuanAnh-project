{
 "cells": [
  {
   "cell_type": "markdown",
   "id": "05948314",
   "metadata": {},
   "source": [
    "# Function"
   ]
  },
  {
   "cell_type": "markdown",
   "id": "3b68247e",
   "metadata": {},
   "source": [
    "## Function(hàm) là gì?"
   ]
  },
  {
   "cell_type": "markdown",
   "id": "cf84a685",
   "metadata": {},
   "source": [
    "Hàm (function) là một khối lệnh đặc biệt, nó được đặt tên, giúp mã chương trình dễ đọc hơn, và có thể gọi để sử dụng ở các nơi khác nhau trong chương trình. Hàm chính là khối lệnh có thể tái sử dụng (reuseable)."
   ]
  },
  {
   "cell_type": "markdown",
   "id": "18f95aa8",
   "metadata": {},
   "source": [
    "### Ví dụ: Hàm in"
   ]
  },
  {
   "cell_type": "code",
   "execution_count": null,
   "id": "0d5f66b5",
   "metadata": {},
   "outputs": [],
   "source": []
  },
  {
   "cell_type": "markdown",
   "id": "29c55e2b",
   "metadata": {},
   "source": [
    "### Ví dụ: Hàm tính giá trị tuyệt đối"
   ]
  },
  {
   "cell_type": "code",
   "execution_count": null,
   "id": "e492700a",
   "metadata": {},
   "outputs": [],
   "source": []
  },
  {
   "cell_type": "markdown",
   "id": "07fa617d",
   "metadata": {},
   "source": [
    "### Ví dụ: Hàm vẽ hình tròn"
   ]
  },
  {
   "cell_type": "code",
   "execution_count": null,
   "id": "2a2dec85",
   "metadata": {},
   "outputs": [],
   "source": []
  },
  {
   "cell_type": "markdown",
   "id": "c4575e29",
   "metadata": {},
   "source": [
    "## Xây dựng và sử dụng hàm trong python"
   ]
  },
  {
   "cell_type": "markdown",
   "id": "00ac6720",
   "metadata": {},
   "source": [
    "### Hàm say_hello"
   ]
  },
  {
   "cell_type": "code",
   "execution_count": null,
   "id": "47575691",
   "metadata": {},
   "outputs": [],
   "source": [
    "def say_hello():\n",
    "    print(\"Hello python\")"
   ]
  },
  {
   "cell_type": "code",
   "execution_count": null,
   "id": "a675cd70",
   "metadata": {},
   "outputs": [],
   "source": [
    "say_hello()"
   ]
  },
  {
   "cell_type": "markdown",
   "id": "f9b6f894",
   "metadata": {},
   "source": [
    "### Hàm vẽ cây thông"
   ]
  },
  {
   "cell_type": "code",
   "execution_count": 1,
   "id": "7ffc1c65",
   "metadata": {},
   "outputs": [],
   "source": [
    "def draw_pine():\n",
    "    import turtle\n",
    "    pen = turtle.Turtle()\n",
    "    pen.pencolor (\"black\")\n",
    "    pen.fillcolor (\"brown\")\n",
    "    pen.begin_fill ()\n",
    "    pen.forward (20)\n",
    "    pen.right (90)\n",
    "    pen.forward (100)\n",
    "    pen.right (90)\n",
    "    pen.forward (20)\n",
    "    pen.right (90)\n",
    "    pen.forward (100)\n",
    "    pen.end_fill ()\n",
    "   \n",
    "    pen.fillcolor (\"green\")\n",
    "    pen.begin_fill ()\n",
    "    pen.left (90)\n",
    "    pen.forward (65)\n",
    "    pen.left (-135)\n",
    "    pen.forward (106)\n",
    "    pen.left (-90)\n",
    "    pen.forward (106)\n",
    "    pen.left (-135)\n",
    "    pen.forward (65)\n",
    "    pen.end_fill ()\n",
    "    pen.penup ()\n",
    "    pen.forward (10)\n",
    "    pen.right (90)\n",
    "    pen.forward (75)\n",
    "    pen.pendown ()\n",
    "\n",
    "    pen.begin_fill ()\n",
    "    pen.left (90)\n",
    "    pen.forward (75)\n",
    "    pen.left (-135)\n",
    "    pen.forward (106)\n",
    "    pen.left (-90)\n",
    "    pen.forward (106)\n",
    "    pen.left (-135)\n",
    "    pen.forward (75)\n",
    "    pen.end_fill ()\n",
    "\n",
    "    pen.penup ()\n",
    "    pen.right (90)\n",
    "    pen.forward (75)\n",
    "    pen.pendown ()\n",
    "\n",
    "    pen.begin_fill ()\n",
    "    pen.left (90)\n",
    "    pen.forward (75)\n",
    "    pen.left (-135)\n",
    "    pen.forward (106)\n",
    "    pen.left (-90)\n",
    "    pen.forward (106)\n",
    "    pen.left (-135)\n",
    "    pen.forward (75)\n",
    "    pen.end_fill ()\n",
    "\n",
    "    turtle.done()"
   ]
  },
  {
   "cell_type": "code",
   "execution_count": 2,
   "id": "c0254627",
   "metadata": {},
   "outputs": [],
   "source": [
    "draw_pine()"
   ]
  },
  {
   "cell_type": "markdown",
   "id": "77fa1ef1",
   "metadata": {},
   "source": [
    "## doc_string cho hàm"
   ]
  },
  {
   "cell_type": "code",
   "execution_count": null,
   "id": "8dcf448b",
   "metadata": {},
   "outputs": [],
   "source": [
    "# Hàm tính chu vi hình chữ nhật"
   ]
  },
  {
   "cell_type": "code",
   "execution_count": null,
   "id": "a7dc57e9",
   "metadata": {},
   "outputs": [],
   "source": [
    "# Hàm xếp loại học sinh\n",
    "def ham_xep_loai_hoc_sinh():\n",
    "    \"\"\"\n",
    "    ham_xep_loai_hoc_sinh in ra xếp loại học lực học sinh theo điểm trung bình\n",
    "Nhập vào điểm từng học sinh theo các môn học,\n",
    "    nếu ĐTB < 5: Học sinh yếu\n",
    "        5<= ĐTB <=6.5: học sinh khá\n",
    "        ĐTB >6.5 : học sinh giỏi \n",
    "    \"\"\"\n",
    "    pass\n",
    "print(ham_xep_loai_hoc_sinh)"
   ]
  },
  {
   "cell_type": "markdown",
   "id": "0c5f3f35",
   "metadata": {},
   "source": [
    "## Phạm vi biến"
   ]
  },
  {
   "cell_type": "code",
   "execution_count": 3,
   "id": "b332222c",
   "metadata": {},
   "outputs": [
    {
     "name": "stdout",
     "output_type": "stream",
     "text": [
      "5\n"
     ]
    }
   ],
   "source": [
    "# Hàm tính tổng các số từ 1 đến 10\n",
    "num = 10 # global\n",
    "def process_num():\n",
    "    num = 5  # local\n",
    "    print (num)\n",
    "process_num()"
   ]
  },
  {
   "cell_type": "markdown",
   "id": "7407e8fe",
   "metadata": {},
   "source": [
    "## Đối số của hàm"
   ]
  },
  {
   "cell_type": "code",
   "execution_count": 5,
   "id": "f5787950",
   "metadata": {},
   "outputs": [
    {
     "name": "stdout",
     "output_type": "stream",
     "text": [
      "64\n"
     ]
    }
   ],
   "source": [
    "# Hàm tính thể tích hình lập phương\n",
    "def cal_cub_volume(slide): #parameter\n",
    "    print(slide*slide*slide)\n",
    "cal_cub_volume(4)"
   ]
  },
  {
   "cell_type": "code",
   "execution_count": 7,
   "id": "8d1bc23b",
   "metadata": {},
   "outputs": [
    {
     "name": "stdout",
     "output_type": "stream",
     "text": [
      "Khá\n"
     ]
    }
   ],
   "source": [
    "# Hàm xếp loại học sinh\n",
    "def xep_loai_hoc_sinh(DTB):\n",
    "    if DTB <5:\n",
    "        print (\"Trung bình\")\n",
    "    if 5<=DTB<=6.5:\n",
    "        print (\"Khá\")\n",
    "    if DTB>6.5:\n",
    "        print(\"Giỏi\")\n",
    "xep_loai_hoc_sinh(5)"
   ]
  },
  {
   "cell_type": "markdown",
   "id": "4cb69485",
   "metadata": {},
   "source": [
    "## Giá trị trả về của hàm"
   ]
  },
  {
   "cell_type": "code",
   "execution_count": null,
   "id": "24592238",
   "metadata": {},
   "outputs": [],
   "source": [
    "# Hàm tính chiều dài của chuỗi"
   ]
  },
  {
   "cell_type": "code",
   "execution_count": null,
   "id": "56d947d8",
   "metadata": {},
   "outputs": [],
   "source": [
    "# Hàm tính lũy thừa"
   ]
  },
  {
   "cell_type": "code",
   "execution_count": null,
   "id": "0178d43e",
   "metadata": {},
   "outputs": [],
   "source": [
    "# Hàm kiểm tra năm nhuận"
   ]
  }
 ],
 "metadata": {
  "kernelspec": {
   "display_name": "Python 3 (ipykernel)",
   "language": "python",
   "name": "python3"
  },
  "language_info": {
   "codemirror_mode": {
    "name": "ipython",
    "version": 3
   },
   "file_extension": ".py",
   "mimetype": "text/x-python",
   "name": "python",
   "nbconvert_exporter": "python",
   "pygments_lexer": "ipython3",
   "version": "3.9.6"
  }
 },
 "nbformat": 4,
 "nbformat_minor": 5
}
