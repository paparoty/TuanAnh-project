{
 "cells": [
  {
   "cell_type": "code",
   "execution_count": 1,
   "id": "7e5fdd34",
   "metadata": {},
   "outputs": [
    {
     "name": "stdout",
     "output_type": "stream",
     "text": [
      "Chiều rộng ngôi nhà: 400\n",
      "Chiều cao ngôi nhà: 150\n",
      "Chiều cao mái nhà: 100\n",
      "Chiều cao ống khói: 100\n"
     ]
    },
    {
     "ename": "NameError",
     "evalue": "name 'h' is not defined",
     "output_type": "error",
     "traceback": [
      "\u001b[1;31m---------------------------------------------------------------------------\u001b[0m",
      "\u001b[1;31mNameError\u001b[0m                                 Traceback (most recent call last)",
      "\u001b[1;32m~\\AppData\\Local\\Temp/ipykernel_2480/4043173728.py\u001b[0m in \u001b[0;36m<module>\u001b[1;34m\u001b[0m\n\u001b[0;32m     22\u001b[0m \u001b[0mp\u001b[0m\u001b[1;33m.\u001b[0m\u001b[0mfd\u001b[0m\u001b[1;33m(\u001b[0m\u001b[0ma\u001b[0m\u001b[1;33m)\u001b[0m\u001b[1;33m\u001b[0m\u001b[1;33m\u001b[0m\u001b[0m\n\u001b[0;32m     23\u001b[0m \u001b[0mp\u001b[0m\u001b[1;33m.\u001b[0m\u001b[0mlt\u001b[0m\u001b[1;33m(\u001b[0m\u001b[1;36m90\u001b[0m\u001b[1;33m)\u001b[0m\u001b[1;33m\u001b[0m\u001b[1;33m\u001b[0m\u001b[0m\n\u001b[1;32m---> 24\u001b[1;33m \u001b[0mp\u001b[0m\u001b[1;33m.\u001b[0m\u001b[0mfd\u001b[0m\u001b[1;33m(\u001b[0m\u001b[0mh\u001b[0m\u001b[1;33m)\u001b[0m\u001b[1;33m\u001b[0m\u001b[1;33m\u001b[0m\u001b[0m\n\u001b[0m\u001b[0;32m     25\u001b[0m \u001b[0mp\u001b[0m\u001b[1;33m.\u001b[0m\u001b[0mfd\u001b[0m\u001b[1;33m(\u001b[0m\u001b[0ma\u001b[0m\u001b[1;33m)\u001b[0m\u001b[1;33m\u001b[0m\u001b[1;33m\u001b[0m\u001b[0m\n\u001b[0;32m     26\u001b[0m \u001b[0mp\u001b[0m\u001b[1;33m.\u001b[0m\u001b[0mlt\u001b[0m\u001b[1;33m(\u001b[0m\u001b[1;36m90\u001b[0m\u001b[1;33m)\u001b[0m\u001b[1;33m\u001b[0m\u001b[1;33m\u001b[0m\u001b[0m\n",
      "\u001b[1;31mNameError\u001b[0m: name 'h' is not defined"
     ]
    }
   ],
   "source": [
    "# Upgrade my house\n",
    "# Nhập kích thước ngôi nhà\n",
    "a = int(input(\"Chiều rộng ngôi nhà: \"))\n",
    "h_1 = int(input(\"Chiều cao ngôi nhà: \"))\n",
    "h_2 = int(input(\"Chiều cao mái nhà: \"))\n",
    "h_3 = int(input(\"Chiều cao ống khói: \"))\n",
    "# Kích thước cửa đi\n",
    "#w_d1 = int(input(\"Chiều rộng cửa đi: \"))\n",
    "#h_d1 = int(input(\"Chiều cao cửa đi: \"))\n",
    "# Kích thước cửa sổ\n",
    "#w_w1 = int(input(\"Chiều rộng cửa sổ: \"))\n",
    "#h_w1 = int(input(\"Chiều cao cửa sổ: \"))\n",
    "# Vẽ ngôi nhà\n",
    "import turtle\n",
    "p = turtle.Turtle()\n",
    "turtle.speed(0.1)\n",
    "p.penup()\n",
    "p.goto(-200,-100)\n",
    "p.pendown()\n",
    "p.fd(a)\n",
    "p.lt(90)\n",
    "p.fd(h)\n",
    "p.lt(90)\n",
    "p.fd(a)\n",
    "p.lt(90)\n",
    "p.fd(h)"
   ]
  },
  {
   "cell_type": "code",
   "execution_count": null,
   "id": "1502f587",
   "metadata": {},
   "outputs": [],
   "source": []
  }
 ],
 "metadata": {
  "kernelspec": {
   "display_name": "Python 3 (ipykernel)",
   "language": "python",
   "name": "python3"
  },
  "language_info": {
   "codemirror_mode": {
    "name": "ipython",
    "version": 3
   },
   "file_extension": ".py",
   "mimetype": "text/x-python",
   "name": "python",
   "nbconvert_exporter": "python",
   "pygments_lexer": "ipython3",
   "version": "3.9.7"
  }
 },
 "nbformat": 4,
 "nbformat_minor": 5
}
