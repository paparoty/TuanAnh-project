{
 "cells": [
  {
   "cell_type": "code",
   "execution_count": null,
   "id": "7ffb56bd",
   "metadata": {},
   "outputs": [],
   "source": [
    "import turtle\n",
    "pen = turtle.Turtle()"
   ]
  },
  {
   "cell_type": "code",
   "execution_count": null,
   "id": "3856955a",
   "metadata": {},
   "outputs": [],
   "source": [
    "# Ve hinh chu nhat\n",
    "m = 200 ; # cạnh dài\n",
    "n = 100 ; # cạnh ngắn\n",
    "d = 90 ; # Góc xoay\n",
    "pen.pencolor (\"red\")\n",
    "pen.fillcolor (\"blue\")\n",
    "pen.begin_fill ()\n",
    "pen.forward (m)\n",
    "pen.right (d)\n",
    "pen.forward (n)\n",
    "pen.right (d)\n",
    "pen.forward (m)\n",
    "pen.right (d)\n",
    "pen.forward (n)\n",
    "pen.right (d)\n",
    "pen.end_fill ()\n",
    "turtle.done ()"
   ]
  }
 ],
 "metadata": {
  "kernelspec": {
   "display_name": "Python 3 (ipykernel)",
   "language": "python",
   "name": "python3"
  },
  "language_info": {
   "codemirror_mode": {
    "name": "ipython",
    "version": 3
   },
   "file_extension": ".py",
   "mimetype": "text/x-python",
   "name": "python",
   "nbconvert_exporter": "python",
   "pygments_lexer": "ipython3",
   "version": "3.9.6"
  }
 },
 "nbformat": 4,
 "nbformat_minor": 5
}
