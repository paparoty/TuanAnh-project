{
 "cells": [
  {
   "cell_type": "code",
   "execution_count": 4,
   "id": "5be306fb",
   "metadata": {},
   "outputs": [
    {
     "name": "stdout",
     "output_type": "stream",
     "text": [
      "Nhập vào số tiền hàng hoá đã mua: $200\n",
      "Số tiền thanh toán: 150 $\n"
     ]
    }
   ],
   "source": [
    "# HIỂN THỊ THÔNG TIN ĐƠN HÀNG GIẢM GIÁ\n",
    "money = int(input(f\"Nhập vào số tiền hàng hoá đã mua: \"+\"$\"))\n",
    "if money < 75:\n",
    "    print(f\"Số tiền thanh toán: {money} $\")\n",
    "elif 100 > money > 75:\n",
    "    print (f\"Số tiền thanh toán: {money - 15} $\")\n",
    "elif 150 > money >= 100:\n",
    "    print (f\"Số tiền thanh toán: {money - 25} $\") \n",
    "else:\n",
    "    print (f\"Số tiền thanh toán: {money - 50} $\")"
   ]
  }
 ],
 "metadata": {
  "kernelspec": {
   "display_name": "Python 3 (ipykernel)",
   "language": "python",
   "name": "python3"
  },
  "language_info": {
   "codemirror_mode": {
    "name": "ipython",
    "version": 3
   },
   "file_extension": ".py",
   "mimetype": "text/x-python",
   "name": "python",
   "nbconvert_exporter": "python",
   "pygments_lexer": "ipython3",
   "version": "3.9.6"
  }
 },
 "nbformat": 4,
 "nbformat_minor": 5
}
