{
 "cells": [
  {
   "cell_type": "code",
   "execution_count": null,
   "id": "7ffb56bd",
   "metadata": {},
   "outputs": [],
   "source": [
    "import turtle\n",
    "pen = turtle.Turtle()\n"
   ]
  },
  {
   "cell_type": "code",
   "execution_count": null,
   "id": "013fa3a7",
   "metadata": {},
   "outputs": [],
   "source": [
    "# Ve hinh tron\n",
    "r = 100 ; # Nhap ban kinh hinh tron\n",
    "pen.pencolor (\"red\")\n",
    "pen.fillcolor (\"blue\")\n",
    "pen.begin_fill ()\n",
    "pen.circle(r)\n",
    "pen.end_fill ()"
   ]
  },
  {
   "cell_type": "code",
   "execution_count": null,
   "id": "3aa129cb",
   "metadata": {},
   "outputs": [],
   "source": [
    "turtle.bgcolor(\"green\")"
   ]
  },
  {
   "cell_type": "code",
   "execution_count": null,
   "id": "b0c6cb76",
   "metadata": {},
   "outputs": [],
   "source": [
    "import turtle\n",
    "\n",
    "screen = turtle.Screen()\n",
    "\n",
    "t = turtle.Turtle()\n",
    "\n",
    "t.shape('triangle')"
   ]
  },
  {
   "cell_type": "code",
   "execution_count": null,
   "id": "5d95b086",
   "metadata": {},
   "outputs": [],
   "source": [
    "100/25"
   ]
  },
  {
   "cell_type": "code",
   "execution_count": null,
   "id": "a7dfbfe0",
   "metadata": {},
   "outputs": [],
   "source": [
    "x = 10.0\n",
    "\n",
    "y = (x < 100.0) and isinstance(x, float)\n",
    "print(y)"
   ]
  },
  {
   "cell_type": "code",
   "execution_count": null,
   "id": "968fe018",
   "metadata": {},
   "outputs": [],
   "source": [
    "1 + 2 ** 3 * 4"
   ]
  },
  {
   "cell_type": "code",
   "execution_count": null,
   "id": "2ffc87e8",
   "metadata": {},
   "outputs": [],
   "source": [
    "my_string =\"hello world\"\n",
    "a = my_string[1:3]\n",
    "print (a)"
   ]
  },
  {
   "cell_type": "code",
   "execution_count": null,
   "id": "e5d660c5",
   "metadata": {},
   "outputs": [],
   "source": [
    "for num in range(10, 14):\n",
    "\n",
    "    for i in range(2, num):\n",
    "\n",
    "        if num%i == 1:\n",
    "\n",
    "            print(num, i)\n",
    "\n",
    "            break"
   ]
  },
  {
   "cell_type": "code",
   "execution_count": null,
   "id": "6ce08213",
   "metadata": {},
   "outputs": [],
   "source": [
    "numbers = [10, 20]\n",
    "\n",
    "items = ['Chair', 'Table']\n",
    "\n",
    "for x in numbers:\n",
    "\n",
    "    for y in items:\n",
    "\n",
    "        print(x, y)"
   ]
  },
  {
   "cell_type": "code",
   "execution_count": 1,
   "id": "8bef464d",
   "metadata": {},
   "outputs": [
    {
     "name": "stdout",
     "output_type": "stream",
     "text": [
      "9\n",
      "18\n",
      "27\n",
      "36\n",
      "45\n",
      "54\n",
      "63\n",
      "72\n",
      "81\n",
      "90\n"
     ]
    }
   ],
   "source": [
    "x = 0\n",
    "for i in range(10):\n",
    "    for j in range(-1, -10, -1):\n",
    "        x += 1\n",
    "    print(x)"
   ]
  },
  {
   "cell_type": "code",
   "execution_count": 3,
   "id": "828e2807",
   "metadata": {},
   "outputs": [
    {
     "name": "stdout",
     "output_type": "stream",
     "text": [
      "J,h,o,n,"
     ]
    }
   ],
   "source": [
    "for l in 'Jhon':\n",
    "\n",
    "    if l == 'o':\n",
    "\n",
    "        pass\n",
    "\n",
    "    print(l, end=',')"
   ]
  },
  {
   "cell_type": "code",
   "execution_count": 4,
   "id": "8fd45753",
   "metadata": {},
   "outputs": [
    {
     "name": "stdout",
     "output_type": "stream",
     "text": [
      "['ab', 'cd']\n"
     ]
    }
   ],
   "source": [
    "x = ['ab','cd']\n",
    "\n",
    "for i in x:\n",
    "\n",
    "    i.upper()\n",
    "\n",
    "print(x)"
   ]
  },
  {
   "cell_type": "code",
   "execution_count": 6,
   "id": "0d1bef2d",
   "metadata": {},
   "outputs": [
    {
     "name": "stdout",
     "output_type": "stream",
     "text": [
      "0 1 2 3 4 "
     ]
    }
   ],
   "source": [
    "for i in range(10):\n",
    "\n",
    "    if i == 5:\n",
    "\n",
    "        break\n",
    "\n",
    "    else:\n",
    "\n",
    "        print(i, end=' ')\n",
    "\n",
    "else:\n",
    "\n",
    "    print('Here')"
   ]
  },
  {
   "cell_type": "code",
   "execution_count": 7,
   "id": "60e69516",
   "metadata": {},
   "outputs": [
    {
     "name": "stdout",
     "output_type": "stream",
     "text": [
      "0 1 2 3 4 6 Here\n"
     ]
    }
   ],
   "source": [
    "for i in range(7):\n",
    "\n",
    "    if i == 5:\n",
    "\n",
    "        continue\n",
    "\n",
    "    else:\n",
    "\n",
    "        print(i, end=\" \")\n",
    "\n",
    "else:\n",
    "\n",
    "    print(\"Here\")"
   ]
  },
  {
   "cell_type": "code",
   "execution_count": 8,
   "id": "72e571fa",
   "metadata": {},
   "outputs": [
    {
     "name": "stdout",
     "output_type": "stream",
     "text": [
      "0 1 2 3 "
     ]
    }
   ],
   "source": [
    "a = [0, 1, 2, 3]\n",
    "\n",
    "for a[0] in a:\n",
    "\n",
    "    print(a[0], end=' ')"
   ]
  },
  {
   "cell_type": "code",
   "execution_count": 9,
   "id": "2e2cb1c8",
   "metadata": {},
   "outputs": [
    {
     "name": "stdout",
     "output_type": "stream",
     "text": [
      "Here\n"
     ]
    }
   ],
   "source": [
    "for x in range(4):\n",
    "\n",
    "    x+=1\n",
    "\n",
    "    if x % 2 == 0:\n",
    "\n",
    "        continue\n",
    "\n",
    "        print(x)\n",
    "\n",
    "        print(\"x\")\n",
    "\n",
    "else:\n",
    "\n",
    "    print(\"Here\")"
   ]
  },
  {
   "cell_type": "code",
   "execution_count": 10,
   "id": "14fd5143",
   "metadata": {},
   "outputs": [
    {
     "name": "stdout",
     "output_type": "stream",
     "text": [
      "5\n"
     ]
    }
   ],
   "source": [
    "sum = 0\n",
    "\n",
    "values = [1,3,5,7]\n",
    "\n",
    "for number in values:\n",
    "\n",
    "    if number == 5:\n",
    "\n",
    "        pass\n",
    "\n",
    "        sum = sum + number\n",
    "\n",
    "print(sum)"
   ]
  },
  {
   "cell_type": "code",
   "execution_count": 11,
   "id": "89a7d8a9",
   "metadata": {},
   "outputs": [
    {
     "name": "stdout",
     "output_type": "stream",
     "text": [
      "biến cục bộ, được khai báo trong hàm!\n",
      "biến toàn cục x\n"
     ]
    }
   ],
   "source": [
    "x = \"biến toàn cục x\"\n",
    "def my_function():\n",
    "    x = \"biến cục bộ, được khai báo trong hàm!\"\n",
    "    print(x)\n",
    "my_function()\n",
    "print(x)"
   ]
  },
  {
   "cell_type": "code",
   "execution_count": 13,
   "id": "ab60e231",
   "metadata": {},
   "outputs": [
    {
     "name": "stdout",
     "output_type": "stream",
     "text": [
      "12\n"
     ]
    }
   ],
   "source": [
    "def sum(*matrix):\n",
    "    s = 0\n",
    "    for i in range(len(matrix)):\n",
    "        s += matrix[i]\n",
    "    return s\n",
    "\n",
    "\n",
    "d = sum(1, 2, 3, 6)\n",
    "print(d)"
   ]
  },
  {
   "cell_type": "code",
   "execution_count": null,
   "id": "4de2654a",
   "metadata": {},
   "outputs": [],
   "source": []
  }
 ],
 "metadata": {
  "kernelspec": {
   "display_name": "Python 3 (ipykernel)",
   "language": "python",
   "name": "python3"
  },
  "language_info": {
   "codemirror_mode": {
    "name": "ipython",
    "version": 3
   },
   "file_extension": ".py",
   "mimetype": "text/x-python",
   "name": "python",
   "nbconvert_exporter": "python",
   "pygments_lexer": "ipython3",
   "version": "3.10.0"
  }
 },
 "nbformat": 4,
 "nbformat_minor": 5
}
