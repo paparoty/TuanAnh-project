{
 "cells": [
  {
   "cell_type": "code",
   "execution_count": 1,
   "id": "7ffb56bd",
   "metadata": {},
   "outputs": [],
   "source": [
    "import turtle\n",
    "pen = turtle.Turtle()\n"
   ]
  },
  {
   "cell_type": "code",
   "execution_count": 2,
   "id": "013fa3a7",
   "metadata": {},
   "outputs": [],
   "source": [
    "# Ve hinh tron\n",
    "r = 100 ; # Nhap ban kinh hinh tron\n",
    "pen.pencolor (\"red\")\n",
    "pen.fillcolor (\"blue\")\n",
    "pen.begin_fill ()\n",
    "pen.circle(r)\n",
    "pen.end_fill ()"
   ]
  },
  {
   "cell_type": "code",
   "execution_count": null,
   "id": "3aa129cb",
   "metadata": {},
   "outputs": [],
   "source": [
    "turtle.bgcolor(\"green\")"
   ]
  }
 ],
 "metadata": {
  "kernelspec": {
   "display_name": "Python 3 (ipykernel)",
   "language": "python",
   "name": "python3"
  },
  "language_info": {
   "codemirror_mode": {
    "name": "ipython",
    "version": 3
   },
   "file_extension": ".py",
   "mimetype": "text/x-python",
   "name": "python",
   "nbconvert_exporter": "python",
   "pygments_lexer": "ipython3",
   "version": "3.9.6"
  }
 },
 "nbformat": 4,
 "nbformat_minor": 5
}
