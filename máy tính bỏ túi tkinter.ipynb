{
 "cells": [
  {
   "cell_type": "code",
   "execution_count": 16,
   "id": "5aac702a",
   "metadata": {},
   "outputs": [],
   "source": [
    "from tkinter import *\n",
    "cal = Tk()\n",
    "cal.title(\"Calculator application\")\n",
    "cal.geometry(\"500x400\")\n",
    "operator = \"\"\n",
    "text_input = StringVar()\n",
    "txtDisplay = Entry(cal, width = 30, font=('arial',20,'bold'),textvariable = text_input, bd=20, insertwidth = 4, justify = 'right')\n",
    "txtDisplay.grid(columnspan=4)\n",
    "# Nút Hàng 1\n",
    "bt7 = Button(cal,padx=30,bd=8,fg='black',font=('arial',20,'bold'),text='7',bg='silver').grid(row=1,column=0)\n",
    "bt8 = Button(cal,padx=30,bd=8,fg='black',font=('arial',20,'bold'),text='8',bg='silver').grid(row=1,column=1)\n",
    "bt9 = Button(cal,padx=30,bd=8,fg='black',font=('arial',20,'bold'),text='9',bg='silver').grid(row=1,column=2)\n",
    "btDev = Button(cal,padx=30,bd=8,fg='black',font=('arial',20,'bold'),text='/',bg='silver').grid(row=1,column=3)\n",
    "# Nút Hàng 2\n",
    "bt4 = Button(cal,padx=30,bd=8,fg='black',font=('arial',20,'bold'),text='4',bg='silver').grid(row=2,column=0)\n",
    "bt5 = Button(cal,padx=30,bd=8,fg='black',font=('arial',20,'bold'),text='5',bg='silver').grid(row=2,column=1)\n",
    "bt6 = Button(cal,padx=30,bd=8,fg='black',font=('arial',20,'bold'),text='6',bg='silver').grid(row=2,column=2)\n",
    "btMul = Button(cal,padx=30,bd=8,fg='black',font=('arial',20,'bold'),text='*',bg='silver').grid(row=2,column=3)\n",
    "# Nút Hàng 3\n",
    "bt1 = Button(cal,padx=30,bd=8,fg='black',font=('arial',20,'bold'),text='1',bg='silver').grid(row=3,column=0)\n",
    "bt2 = Button(cal,padx=30,bd=8,fg='black',font=('arial',20,'bold'),text='2',bg='silver').grid(row=3,column=1)\n",
    "bt3 = Button(cal,padx=30,bd=8,fg='black',font=('arial',20,'bold'),text='3',bg='silver').grid(row=3,column=2)\n",
    "btSub = Button(cal,padx=30,bd=8,fg='black',font=('arial',20,'bold'),text='-',bg='silver').grid(row=3,column=3)\n",
    "# Nút Hàng 3\n",
    "btClr = Button(cal,padx=30,bd=8,fg='black',font=('arial',20,'bold'),text='C',bg='silver').grid(row=4,column=0)\n",
    "btDot = Button(cal,padx=30,bd=8,fg='black',font=('arial',20,'bold'),text='.',bg='silver').grid(row=4,column=1)\n",
    "bt0 = Button(cal,padx=30,bd=8,fg='black',font=('arial',20,'bold'),text='0',bg='silver').grid(row=4,column=2)\n",
    "btAdd = Button(cal,padx=30,bd=8,fg='black',font=('arial',20,'bold'),text='+',bg='silver').grid(row=4,column=3)\n",
    "# Nút Hàng 4\n",
    "btOpe = Button(cal,padx=30,bd=8,fg='black',font=('arial',20,'bold'),text='(',bg='silver').grid(row=5,column=0)\n",
    "btClo = Button(cal,padx=30,bd=8,fg='black',font=('arial',20,'bold'),text=')',bg='silver').grid(row=5,column=1)\n",
    "btEqual = Button(cal,padx=90,bd=8,fg='black',font=('arial',20,'bold'),text='=',bg='silver').grid(row=5,column=2, columnspan=2)\n",
    "\n",
    "# Chạy ứng dụng\n",
    "cal.mainloop()"
   ]
  },
  {
   "cell_type": "code",
   "execution_count": null,
   "id": "a869520c",
   "metadata": {},
   "outputs": [],
   "source": []
  }
 ],
 "metadata": {
  "kernelspec": {
   "display_name": "Python 3 (ipykernel)",
   "language": "python",
   "name": "python3"
  },
  "language_info": {
   "codemirror_mode": {
    "name": "ipython",
    "version": 3
   },
   "file_extension": ".py",
   "mimetype": "text/x-python",
   "name": "python",
   "nbconvert_exporter": "python",
   "pygments_lexer": "ipython3",
   "version": "3.10.0"
  }
 },
 "nbformat": 4,
 "nbformat_minor": 5
}
