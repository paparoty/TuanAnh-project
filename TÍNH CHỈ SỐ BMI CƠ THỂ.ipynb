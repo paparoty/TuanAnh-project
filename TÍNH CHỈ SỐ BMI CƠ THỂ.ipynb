{
 "cells": [
  {
   "cell_type": "code",
   "execution_count": 8,
   "id": "339eaec5",
   "metadata": {},
   "outputs": [
    {
     "name": "stdout",
     "output_type": "stream",
     "text": [
      "Nhập vào số cân nặng (kg): 72\n",
      "Nhập vào chiều cao (m): 1.72\n",
      "Bình thường\n",
      "24.337479718766904\n"
     ]
    }
   ],
   "source": [
    "# CHƯƠNG TRÌNH TÍNH TOÁN CHỈ SỐ BMI CƠ THỂ\n",
    "\n",
    "def cal_BMI():\n",
    "    mass = float(input(\"Nhập vào số cân nặng (kg): \"))\n",
    "    height = float(input(\"Nhập vào chiều cao (m): \"))\n",
    "    BMI= mass / (height**2)\n",
    "    if BMI < 16:\n",
    "        print(\"Gầy cấp độ III\")\n",
    "    elif 16 <= BMI < 17:\n",
    "        print(\"Gầy cấp độ II\")\n",
    "    elif 17 <= BMI < 18.5:\n",
    "        print(\"Gầy cấp độ I\")\n",
    "    elif 18.5 <= BMI <25:\n",
    "        print(\"Bình thường\")\n",
    "    elif 25 <= BMI < 30:\n",
    "        print(\"Thừa cân\")\n",
    "    elif 30 <= BMI <35:\n",
    "        print (\"Béo phì cấp độ I\")\n",
    "    elif 35<= BMI <40:\n",
    "        print(\"Béo phì cấp độ II\")\n",
    "    else:\n",
    "        print(\"Béo phì cấp độ III\")\n",
    "    print(BMI)\n",
    "#-----------------------------------------------------\n",
    "cal_BMI()"
   ]
  },
  {
   "cell_type": "code",
   "execution_count": null,
   "id": "53078a99",
   "metadata": {},
   "outputs": [],
   "source": []
  }
 ],
 "metadata": {
  "kernelspec": {
   "display_name": "Python 3 (ipykernel)",
   "language": "python",
   "name": "python3"
  },
  "language_info": {
   "codemirror_mode": {
    "name": "ipython",
    "version": 3
   },
   "file_extension": ".py",
   "mimetype": "text/x-python",
   "name": "python",
   "nbconvert_exporter": "python",
   "pygments_lexer": "ipython3",
   "version": "3.9.6"
  }
 },
 "nbformat": 4,
 "nbformat_minor": 5
}
