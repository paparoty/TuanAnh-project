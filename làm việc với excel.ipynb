{
 "cells": [
  {
   "cell_type": "code",
   "execution_count": 14,
   "id": "c8f16fe7",
   "metadata": {},
   "outputs": [],
   "source": [
    "import openpyxl\n",
    "def output_Excel(input_detail,output_excel_path):\n",
    "  #Xác định số hàng và cột lớn nhất trong file excel cần tạo\n",
    "    row = len(input_detail)\n",
    "    column = len(input_detail[0])\n",
    "\n",
    "  #Tạo một workbook mới và active nó\n",
    "    wb = openpyxl.Workbook('sample.xlsx')\n",
    "    ws = wb.active\n",
    "  \n",
    "  #Dùng vòng lặp for để ghi nội dung từ input_detail vào file Excel\n",
    "    for i in range(0,row):\n",
    "        for j in range(0,column):\n",
    "            v =input_detail[i][j]\n",
    "            ws.cell(column=j+1, row=i+1, value=v)\n",
    "\n",
    "  #Lưu lại file Excel\n",
    "    wb.save('sample.xlsx')"
   ]
  },
  {
   "cell_type": "code",
   "execution_count": 15,
   "id": "9b72b49d",
   "metadata": {},
   "outputs": [],
   "source": [
    "from openpyxl import Workbook\n",
    "wb = Workbook()\n",
    "\n",
    "# grab the active worksheet\n",
    "ws = wb.active\n",
    "\n",
    "# Data can be assigned directly to cells\n",
    "ws['A1'] = 42\n",
    "\n",
    "# Rows can also be appended\n",
    "ws.append([1, 2, 3])\n",
    "\n",
    "# Python types will automatically be converted\n",
    "import datetime\n",
    "ws['A2'] = datetime.datetime.now()\n",
    "\n",
    "# Save the file\n",
    "wb.save(\"sample.xlsx\")"
   ]
  },
  {
   "cell_type": "code",
   "execution_count": null,
   "id": "84ab10f2",
   "metadata": {},
   "outputs": [],
   "source": []
  }
 ],
 "metadata": {
  "kernelspec": {
   "display_name": "Python 3 (ipykernel)",
   "language": "python",
   "name": "python3"
  },
  "language_info": {
   "codemirror_mode": {
    "name": "ipython",
    "version": 3
   },
   "file_extension": ".py",
   "mimetype": "text/x-python",
   "name": "python",
   "nbconvert_exporter": "python",
   "pygments_lexer": "ipython3",
   "version": "3.10.0"
  }
 },
 "nbformat": 4,
 "nbformat_minor": 5
}
