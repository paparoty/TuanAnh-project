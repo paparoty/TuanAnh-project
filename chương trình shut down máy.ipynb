{
 "cells": [
  {
   "cell_type": "code",
   "execution_count": null,
   "id": "f96640ba",
   "metadata": {},
   "outputs": [],
   "source": [
    "from tkinter import *\n",
    "import os\n",
    "\n",
    "def shutdown():\n",
    "    return os.system(\"shutdown /s /t 1\")\n",
    "def restart():\n",
    "    return os.system(\"shutdown /r /t 1\")\n",
    "def logout():\n",
    "    return os.system(\"shutdown -l\")\n",
    "\n",
    "windows = Tk()\n",
    "windows.title(\"OS's application\")\n",
    "windows.configure(bg='light grey')\n",
    "\n",
    "Button(windows, text=\"Shutdown\", command=shutdown).grid(row=0)\n",
    "Button(windows, text=\"Restart\", command=restart).grid(row=1)\n",
    "Button(windows, text=\"Log out\", command=logout).grid(row=2)\n",
    "\n",
    "windows.mainloop()"
   ]
  },
  {
   "cell_type": "code",
   "execution_count": null,
   "id": "da4c053a",
   "metadata": {},
   "outputs": [],
   "source": []
  }
 ],
 "metadata": {
  "kernelspec": {
   "display_name": "Python 3 (ipykernel)",
   "language": "python",
   "name": "python3"
  },
  "language_info": {
   "codemirror_mode": {
    "name": "ipython",
    "version": 3
   },
   "file_extension": ".py",
   "mimetype": "text/x-python",
   "name": "python",
   "nbconvert_exporter": "python",
   "pygments_lexer": "ipython3",
   "version": "3.10.0"
  }
 },
 "nbformat": 4,
 "nbformat_minor": 5
}
