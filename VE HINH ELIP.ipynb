{
 "cells": [
  {
   "cell_type": "code",
   "execution_count": 1,
   "id": "8b8675f8",
   "metadata": {},
   "outputs": [],
   "source": [
    "# VẼ HÌNH THEO MẪU\n",
    "# BT1:\n",
    "import turtle\n",
    "pen = turtle.Turtle()\n",
    "rad = 100\n",
    "for i in range (2):\n",
    "    pen.circle(rad,90)\n",
    "    pen.circle(rad//2,90)\n"
   ]
  },
  {
   "cell_type": "code",
   "execution_count": null,
   "id": "c14cb966",
   "metadata": {},
   "outputs": [],
   "source": []
  }
 ],
 "metadata": {
  "kernelspec": {
   "display_name": "Python 3 (ipykernel)",
   "language": "python",
   "name": "python3"
  },
  "language_info": {
   "codemirror_mode": {
    "name": "ipython",
    "version": 3
   },
   "file_extension": ".py",
   "mimetype": "text/x-python",
   "name": "python",
   "nbconvert_exporter": "python",
   "pygments_lexer": "ipython3",
   "version": "3.9.6"
  }
 },
 "nbformat": 4,
 "nbformat_minor": 5
}
