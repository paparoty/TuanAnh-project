{
 "cells": [
  {
   "cell_type": "markdown",
   "id": "7637b45d",
   "metadata": {},
   "source": [
    "# Tkinter"
   ]
  },
  {
   "cell_type": "markdown",
   "id": "aef48c70",
   "metadata": {},
   "source": [
    "## Tkinter là gì?\n",
    "Tkinter là thư viện GUI tiêu chuẩn cho Python."
   ]
  },
  {
   "cell_type": "markdown",
   "id": "a555c9c5",
   "metadata": {},
   "source": [
    "## Các bước tạo ứng dụng Tkinter\n",
    "**Bước 1:** Import Tkinter module\n",
    "\n",
    "**Bước 2:** Tạo ra cửa số chính cho ứng dụng \n",
    "\n",
    "**Bước 3:** Thêm một số widget cho ứng dụng\n",
    "\n",
    "**Bước 4:** Tạo vòng lặp sự kiện chính để các hành động có thể diễn ra trên màn hình máy tính của người dùng\n"
   ]
  },
  {
   "cell_type": "markdown",
   "id": "f5a0f4e8",
   "metadata": {},
   "source": [
    "## Import Tkinter module"
   ]
  },
  {
   "cell_type": "code",
   "execution_count": 22,
   "id": "28a5f795",
   "metadata": {},
   "outputs": [],
   "source": [
    "from tkinter import *"
   ]
  },
  {
   "cell_type": "markdown",
   "id": "27f1704a",
   "metadata": {},
   "source": [
    "## Tạo ra cửa số cho ứng dụng"
   ]
  },
  {
   "cell_type": "code",
   "execution_count": 23,
   "id": "3063eaa3",
   "metadata": {},
   "outputs": [
    {
     "data": {
      "text/plain": [
       "''"
      ]
     },
     "execution_count": 23,
     "metadata": {},
     "output_type": "execute_result"
    }
   ],
   "source": [
    "windows = Tk()\n",
    "windows.title(\"Long 's application\")\n",
    "# Chạy ứng dụng\n",
    "# windows.mainloop()"
   ]
  },
  {
   "cell_type": "markdown",
   "id": "6a7f27d7",
   "metadata": {},
   "source": [
    "## Thêm widget cho ứng dụng"
   ]
  },
  {
   "cell_type": "code",
   "execution_count": 15,
   "id": "396c5f84",
   "metadata": {},
   "outputs": [],
   "source": [
    "content = Label(windows, text =\"Hello world!\").pack()"
   ]
  },
  {
   "cell_type": "code",
   "execution_count": 16,
   "id": "6678eb22",
   "metadata": {},
   "outputs": [],
   "source": [
    "# Chạy ứng dụng\n",
    "windows.mainloop()"
   ]
  },
  {
   "cell_type": "markdown",
   "id": "50cf878f",
   "metadata": {},
   "source": [
    "## label"
   ]
  },
  {
   "cell_type": "code",
   "execution_count": 24,
   "id": "6826b7e0",
   "metadata": {},
   "outputs": [],
   "source": [
    "app_name = Label(windows, text =\"DEMO WIDGET\")\n",
    "app_name.pack()"
   ]
  },
  {
   "cell_type": "code",
   "execution_count": 25,
   "id": "53a2d5cc",
   "metadata": {},
   "outputs": [],
   "source": [
    "label_text = Label(windows, text =\"LABEL\")\n",
    "label_text.pack()"
   ]
  },
  {
   "cell_type": "code",
   "execution_count": 26,
   "id": "b7beede8",
   "metadata": {},
   "outputs": [],
   "source": [
    "button_text = Label(windows, text =\"BUTTON\")\n",
    "button_text.pack()\n",
    "def update_app_name():\n",
    "    app_name.config(text='PYTHON FUNDAMENTAL')\n",
    "\n",
    "change_text_button = Button(windows, text = \"Click update text\", command = update_app_name)\n",
    "\n",
    "change_text_button.pack()"
   ]
  },
  {
   "cell_type": "code",
   "execution_count": 12,
   "id": "54b92000",
   "metadata": {},
   "outputs": [],
   "source": []
  },
  {
   "cell_type": "code",
   "execution_count": 30,
   "id": "f601c3da",
   "metadata": {},
   "outputs": [],
   "source": [
    "windows.mainloop()"
   ]
  },
  {
   "cell_type": "markdown",
   "id": "fbf4ab01",
   "metadata": {},
   "source": [
    "## entry"
   ]
  },
  {
   "cell_type": "code",
   "execution_count": 27,
   "id": "a8dea346",
   "metadata": {},
   "outputs": [],
   "source": [
    "entry_text = Label(windows, text =\"ENTRY\")\n",
    "entry_text.pack()"
   ]
  },
  {
   "cell_type": "code",
   "execution_count": 28,
   "id": "db1d81ab",
   "metadata": {},
   "outputs": [],
   "source": [
    "number = Entry(windows)\n",
    "number.pack()"
   ]
  },
  {
   "cell_type": "code",
   "execution_count": null,
   "id": "1fa16725",
   "metadata": {},
   "outputs": [],
   "source": []
  },
  {
   "cell_type": "code",
   "execution_count": 29,
   "id": "141dee61",
   "metadata": {},
   "outputs": [],
   "source": [
    "def update_entry_text():\n",
    "    entry_text.config(text=number.get()) # number.get() dùng để lấy giá trị của entry number\n",
    "update_button = Button(windows, text=\"click to update value\", command=update_entry_text)\n",
    "update_button.pack()"
   ]
  },
  {
   "cell_type": "markdown",
   "id": "220d3157",
   "metadata": {},
   "source": [
    "## button"
   ]
  },
  {
   "cell_type": "code",
   "execution_count": 7,
   "id": "4376bd13",
   "metadata": {},
   "outputs": [],
   "source": [
    "def update_app_name():\n",
    "    app_name.config(text='PYTHON FUNDAMENTAL')\n",
    "\n",
    "change_text_button = Button(windows, text = \"Click update text\", command = update_app_name)\n",
    "\n",
    "change_text_button.pack()\n"
   ]
  },
  {
   "cell_type": "code",
   "execution_count": 8,
   "id": "14b9e445",
   "metadata": {},
   "outputs": [
    {
     "name": "stderr",
     "output_type": "stream",
     "text": [
      "Exception in Tkinter callback\n",
      "Traceback (most recent call last):\n",
      "  File \"C:\\Users\\kstra\\AppData\\Local\\Programs\\Python\\Python310\\lib\\tkinter\\__init__.py\", line 1921, in __call__\n",
      "    return self.func(*args)\n",
      "  File \"C:\\Users\\kstra\\AppData\\Local\\Temp/ipykernel_9992/3069181431.py\", line 2, in update_app_name\n",
      "    app_name.config(text='PYTHON FUNDAMENTAL')\n",
      "AttributeError: 'NoneType' object has no attribute 'config'\n"
     ]
    }
   ],
   "source": [
    "windows.mainloop()"
   ]
  },
  {
   "cell_type": "markdown",
   "id": "8bd06b13",
   "metadata": {},
   "source": [
    "## combobox"
   ]
  },
  {
   "cell_type": "code",
   "execution_count": 25,
   "id": "74694770",
   "metadata": {},
   "outputs": [
    {
     "ename": "NameError",
     "evalue": "name 'tk' is not defined",
     "output_type": "error",
     "traceback": [
      "\u001b[1;31m---------------------------------------------------------------------------\u001b[0m",
      "\u001b[1;31mNameError\u001b[0m                                 Traceback (most recent call last)",
      "\u001b[1;32m~\\AppData\\Local\\Temp/ipykernel_8740/3452562174.py\u001b[0m in \u001b[0;36m<module>\u001b[1;34m\u001b[0m\n\u001b[0;32m      1\u001b[0m \u001b[1;31m# Combobox creation\u001b[0m\u001b[1;33m\u001b[0m\u001b[1;33m\u001b[0m\u001b[0m\n\u001b[1;32m----> 2\u001b[1;33m \u001b[0mn\u001b[0m \u001b[1;33m=\u001b[0m \u001b[0mtk\u001b[0m\u001b[1;33m.\u001b[0m\u001b[0mStringVar\u001b[0m\u001b[1;33m(\u001b[0m\u001b[1;33m)\u001b[0m\u001b[1;33m\u001b[0m\u001b[1;33m\u001b[0m\u001b[0m\n\u001b[0m\u001b[0;32m      3\u001b[0m \u001b[0mmonthchoosen\u001b[0m \u001b[1;33m=\u001b[0m \u001b[0mttk\u001b[0m\u001b[1;33m.\u001b[0m\u001b[0mCombobox\u001b[0m\u001b[1;33m(\u001b[0m\u001b[0mwindow\u001b[0m\u001b[1;33m,\u001b[0m \u001b[0mwidth\u001b[0m \u001b[1;33m=\u001b[0m \u001b[1;36m27\u001b[0m\u001b[1;33m,\u001b[0m \u001b[0mtextvariable\u001b[0m \u001b[1;33m=\u001b[0m \u001b[0mn\u001b[0m\u001b[1;33m)\u001b[0m\u001b[1;33m\u001b[0m\u001b[1;33m\u001b[0m\u001b[0m\n\u001b[0;32m      4\u001b[0m \u001b[1;33m\u001b[0m\u001b[0m\n\u001b[0;32m      5\u001b[0m \u001b[1;31m# Adding combobox drop down list\u001b[0m\u001b[1;33m\u001b[0m\u001b[1;33m\u001b[0m\u001b[0m\n",
      "\u001b[1;31mNameError\u001b[0m: name 'tk' is not defined"
     ]
    }
   ],
   "source": [
    "from tkinter import *\n",
    "windows = Tk()\n",
    "windows.title(\"Long 's application\")\n",
    "\n",
    "# Combobox creation\n",
    "n = tk.StringVar()\n",
    "monthchoosen = ttk.Combobox(window, width = 27, textvariable = n)\n",
    "  \n",
    "# Adding combobox drop down list\n",
    "monthchoosen['values'] = (' January', \n",
    "                          ' February',\n",
    "                          ' March',\n",
    "                          ' April',\n",
    "                          ' May',\n",
    "                          ' June',\n",
    "                          ' July',\n",
    "                          ' August',\n",
    "                          ' September',\n",
    "                          ' October',\n",
    "                          ' November',\n",
    "                          ' December')\n",
    "  \n",
    "monthchoosen.grid(column = 1, row = 5)\n",
    "monthchoosen.current()\n",
    "windows.mainloop()"
   ]
  },
  {
   "cell_type": "markdown",
   "id": "f5203893",
   "metadata": {},
   "source": [
    "## text"
   ]
  },
  {
   "cell_type": "code",
   "execution_count": null,
   "id": "f822f455",
   "metadata": {},
   "outputs": [],
   "source": []
  },
  {
   "cell_type": "markdown",
   "id": "7b58544c",
   "metadata": {},
   "source": [
    "## messagebox"
   ]
  },
  {
   "cell_type": "code",
   "execution_count": 28,
   "id": "d721e682",
   "metadata": {},
   "outputs": [
    {
     "ename": "NameError",
     "evalue": "name 'w' is not defined",
     "output_type": "error",
     "traceback": [
      "\u001b[1;31m---------------------------------------------------------------------------\u001b[0m",
      "\u001b[1;31mNameError\u001b[0m                                 Traceback (most recent call last)",
      "\u001b[1;32m~\\AppData\\Local\\Temp/ipykernel_8740/2229023116.py\u001b[0m in \u001b[0;36m<module>\u001b[1;34m\u001b[0m\n\u001b[0;32m     17\u001b[0m \u001b[1;32melse\u001b[0m\u001b[1;33m:\u001b[0m\u001b[1;33m\u001b[0m\u001b[1;33m\u001b[0m\u001b[0m\n\u001b[0;32m     18\u001b[0m     \u001b[0mmessagebox\u001b[0m\u001b[1;33m.\u001b[0m\u001b[0mshowinfo\u001b[0m\u001b[1;33m(\u001b[0m\u001b[1;34m'Bạn có học python không?'\u001b[0m\u001b[1;33m,\u001b[0m \u001b[1;34m'Không'\u001b[0m\u001b[1;33m)\u001b[0m\u001b[1;33m\u001b[0m\u001b[1;33m\u001b[0m\u001b[0m\n\u001b[1;32m---> 19\u001b[1;33m \u001b[0mw\u001b[0m\u001b[1;33m.\u001b[0m\u001b[0mmainloop\u001b[0m\u001b[1;33m(\u001b[0m\u001b[1;33m)\u001b[0m\u001b[1;33m\u001b[0m\u001b[1;33m\u001b[0m\u001b[0m\n\u001b[0m",
      "\u001b[1;31mNameError\u001b[0m: name 'w' is not defined"
     ]
    }
   ],
   "source": [
    "#from tkinter import mesagebox\n",
    "\n",
    "#show infor messagebox\n",
    "#Syntax: messagebox.showinfor(Title = \"\", message = \"\")\n",
    "#messagebox.showinfo('Đây là messagebox', 'Show info')\n",
    "\n",
    "#Warning messagebox\n",
    "#Syntax: messagebox.showwarning/showerror(Title = \" \", message = \" \")\n",
    "#messagebox.showwarning('Đây là messagebox', 'Show warning')\n",
    "#messagebox.showerror('Đây là messagebox', 'ERROR!')\n",
    "\n",
    "#Question messagebox\n",
    "#Asking yes/no question and return the same\n",
    "ask = messagebox.askquestion('Đây là messagebox', 'Bạn có học Python không?')\n",
    "if ask == \"yes\":\n",
    "    messagebox.showinfo('Bạn có học Python không?', 'Có!')\n",
    "else:\n",
    "    messagebox.showinfo('Bạn có học python không?', 'Không')\n",
    "w.mainloop()\n"
   ]
  },
  {
   "cell_type": "markdown",
   "id": "eebac94e",
   "metadata": {},
   "source": [
    "## checkbutton"
   ]
  },
  {
   "cell_type": "code",
   "execution_count": 27,
   "id": "1e534acb",
   "metadata": {},
   "outputs": [],
   "source": [
    "from tkinter import *\n",
    "\n",
    "import tkinter\n",
    "    \n",
    "windows = Tk()\n",
    "CheckVar1 = IntVar()\n",
    "CheckVar2 = IntVar()\n",
    "C1 = Checkbutton(windows, text = \"Music\", selectcolor = \"red\", variable = CheckVar1, \\\n",
    "                 onvalue = 1, offvalue = 0, height=5, \\\n",
    "                 width = 20, )\n",
    "C2 = Checkbutton(windows, text = \"Video\", selectcolor = \"yellow\", variable = CheckVar2, \\\n",
    "                 onvalue = 1, offvalue = 0, height=5, \\\n",
    "                 width = 20)\n",
    "C1.pack()\n",
    "C2.pack()\n",
    "top.mainloop()"
   ]
  },
  {
   "cell_type": "code",
   "execution_count": null,
   "id": "ca35aa8e",
   "metadata": {},
   "outputs": [],
   "source": []
  }
 ],
 "metadata": {
  "kernelspec": {
   "display_name": "Python 3 (ipykernel)",
   "language": "python",
   "name": "python3"
  },
  "language_info": {
   "codemirror_mode": {
    "name": "ipython",
    "version": 3
   },
   "file_extension": ".py",
   "mimetype": "text/x-python",
   "name": "python",
   "nbconvert_exporter": "python",
   "pygments_lexer": "ipython3",
   "version": "3.10.0"
  }
 },
 "nbformat": 4,
 "nbformat_minor": 5
}
