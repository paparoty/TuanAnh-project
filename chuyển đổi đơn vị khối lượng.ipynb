{
 "cells": [
  {
   "cell_type": "code",
   "execution_count": 1,
   "id": "dee02f95",
   "metadata": {},
   "outputs": [],
   "source": [
    "from tkinter import *\n",
    "app = Tk()\n",
    "app.geometry(\"400x300\")\n",
    "\n",
    "def change_weight():\n",
    "    Gram = float(weight_number.get())*1000\n",
    "    Gram_1.configure(text = Gram)\n",
    "    Pounds = float(weight_number.get())*2.20462\n",
    "    Pounds_1.configure(text = Pounds)\n",
    "    Ounce = float(weight_number.get())*35.274\n",
    "    Ounce_1.configure(text = Ounce)\n",
    "\n",
    "    \n",
    "app_name = Label(app, text =\"Enter the weight in KG:\")\n",
    "weight_number = Entry(app)\n",
    "Convert_button = Button(app, text = \"Convert\", command = change_weight)\n",
    "\n",
    "Gram_name = Label(app, text =\"Gram\")\n",
    "Pounds_name = Label(app, text =\"Pounds\")\n",
    "Ounce_name = Label(app, text =\"Ounce\")\n",
    "\n",
    "\n",
    "app_name.grid(column=0, row=0)\n",
    "weight_number.grid(column=1, row=0)\n",
    "Convert_button.grid(column=2, row=0)\n",
    "\n",
    "Gram_name.grid(column=0, row=1)\n",
    "Pounds_name.grid(column=1, row=1)\n",
    "Ounce_name.grid(column=2, row=1)\n",
    "\n",
    "Gram_1 = Label(app, text =\"Gram_quatity\")\n",
    "Gram_1.grid(column=0, row=2)\n",
    "\n",
    "Pounds_1 = Label(app, text =\"Pounds_quatity\")\n",
    "Pounds_1.grid(column=1, row=2)\n",
    "\n",
    "Ounce_1 = Label(app, text =\"Ounce_quatity\")\n",
    "Ounce_1.grid(column=2, row=2)\n",
    "\n",
    "app.mainloop()"
   ]
  },
  {
   "cell_type": "code",
   "execution_count": 4,
   "id": "4305d0a0",
   "metadata": {},
   "outputs": [
    {
     "name": "stdout",
     "output_type": "stream",
     "text": [
      "Have a great day! Goodbye :)\n"
     ]
    },
    {
     "ename": "SystemExit",
     "evalue": "0",
     "output_type": "error",
     "traceback": [
      "An exception has occurred, use %tb to see the full traceback.\n",
      "\u001b[1;31mSystemExit\u001b[0m\u001b[1;31m:\u001b[0m 0\n"
     ]
    },
    {
     "name": "stderr",
     "output_type": "stream",
     "text": [
      "C:\\Users\\kstra\\AppData\\Local\\Programs\\Python\\Python310\\lib\\site-packages\\IPython\\core\\interactiveshell.py:3452: UserWarning: To exit: use 'exit', 'quit', or Ctrl-D.\n",
      "  warn(\"To exit: use 'exit', 'quit', or Ctrl-D.\", stacklevel=1)\n"
     ]
    }
   ],
   "source": [
    " import sys\n",
    "from tkinter import *\n",
    "from tkinter import ttk\n",
    "import time\n",
    "from datetime import datetime\n",
    "now= datetime.now()\n",
    "x = []\n",
    "d = dict()\n",
    "def quit():\n",
    "    print(\"Have a great day! Goodbye :)\")\n",
    "    sys.exit(0)\n",
    "def display():\n",
    "    for key in d.keys():\n",
    "        x.append(key)\n",
    "def add(*args): \n",
    "    global stock\n",
    "    global d\n",
    "    stock = stock_Entry.get()\n",
    "    Quantity = Quantity_Entry.get()\n",
    "    if stock not in d:\n",
    "        d[stock] = Quantity\n",
    "    else:\n",
    "        d[stock] += Quantity\n",
    "\n",
    "\n",
    "\n",
    "\n",
    "root = Tk()\n",
    "root.title(\"Homework 5 216020088\")\n",
    "\n",
    "mainframe = ttk.Frame(root, padding=\"6 6 20 20\")\n",
    "mainframe.grid(column=0, row=0, sticky=(N, W, E, S))\n",
    "\n",
    "ttk.Label(mainframe, text=\"you are accesing this on day %s of month %s of %s\" % (now.day,now.month,now.year)+\" at exactly %s:%s:%s\" % (now.hour,now.minute,now.second), foreground=\"yellow\", background=\"Black\").grid(column=0, row = 0)\n",
    "\n",
    "stock_Entry= ttk.Entry(mainframe, width = 60, textvariable=\"stock\")\n",
    "stock_Entry.grid(column=0, row = 1, sticky=W)\n",
    "ttk.Label(mainframe, text=\"Please enter the stock name\").grid(column=1, row = 1, sticky=(N, W, E, S))\n",
    "\n",
    "Quantity_Entry= ttk.Entry(mainframe, width = 60, textvariable=\"Quantity\")\n",
    "Quantity_Entry.grid(column=0, row = 2, sticky=W)\n",
    "ttk.Label(mainframe, text=\"Please enter the quantity\").grid(column=1, row = 2, sticky=(N, W, E, S))\n",
    "\n",
    "ttk.Button(mainframe, text=\"Add\", command=add).grid(column=0, row=3, sticky=W)\n",
    "ttk.Button(mainframe, text=\"Display\", command=display).grid(column=0, row=3, sticky=S)\n",
    "ttk.Button(mainframe, text=\"Exit\", command=quit).grid(column=0, row=3, sticky=E)\n",
    "\n",
    "ttk.Label(mainframe, text= x).grid(column=0, row= 4, sticky=W)\n",
    "\n",
    "for child in mainframe.winfo_children(): child.grid_configure(padx=5, pady=5)\n",
    "root.mainloop()"
   ]
  },
  {
   "cell_type": "code",
   "execution_count": null,
   "id": "30d78799",
   "metadata": {},
   "outputs": [],
   "source": []
  }
 ],
 "metadata": {
  "kernelspec": {
   "display_name": "Python 3 (ipykernel)",
   "language": "python",
   "name": "python3"
  },
  "language_info": {
   "codemirror_mode": {
    "name": "ipython",
    "version": 3
   },
   "file_extension": ".py",
   "mimetype": "text/x-python",
   "name": "python",
   "nbconvert_exporter": "python",
   "pygments_lexer": "ipython3",
   "version": "3.10.0"
  }
 },
 "nbformat": 4,
 "nbformat_minor": 5
}
