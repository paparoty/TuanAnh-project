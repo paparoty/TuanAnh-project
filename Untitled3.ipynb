{
 "cells": [
  {
   "cell_type": "code",
   "execution_count": 5,
   "id": "a7550532",
   "metadata": {},
   "outputs": [
    {
     "name": "stdout",
     "output_type": "stream",
     "text": [
      "{'type': 'pokemon', 'find': 'pikachu', 'love': 'bubasaul'}\n"
     ]
    }
   ],
   "source": [
    "Mate_dict= {}\n",
    "\n",
    "Mate_dict['type']= 'pokemon'\n",
    "Mate_dict['find']= 'pikachu'\n",
    "Mate_dict['love']= 'bubasaul'\n",
    "\n",
    "print(Mate_dict)"
   ]
  },
  {
   "cell_type": "code",
   "execution_count": null,
   "id": "c26d7700",
   "metadata": {},
   "outputs": [],
   "source": []
  }
 ],
 "metadata": {
  "kernelspec": {
   "display_name": "Python 3 (ipykernel)",
   "language": "python",
   "name": "python3"
  },
  "language_info": {
   "codemirror_mode": {
    "name": "ipython",
    "version": 3
   },
   "file_extension": ".py",
   "mimetype": "text/x-python",
   "name": "python",
   "nbconvert_exporter": "python",
   "pygments_lexer": "ipython3",
   "version": "3.10.0"
  }
 },
 "nbformat": 4,
 "nbformat_minor": 5
}
