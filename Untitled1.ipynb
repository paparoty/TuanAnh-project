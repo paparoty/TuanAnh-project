{
 "cells": [
  {
   "cell_type": "code",
   "execution_count": null,
   "id": "4a65db08",
   "metadata": {},
   "outputs": [],
   "source": [
    "# Tinh Dien tich tam giac (Cong thuc Herong)"
   ]
  },
  {
   "cell_type": "code",
   "execution_count": 5,
   "id": "765dc69a",
   "metadata": {},
   "outputs": [
    {
     "name": "stdout",
     "output_type": "stream",
     "text": [
      "Nhap chieu dai canh a:10\n",
      "Nhap chieu dai canh b:7\n",
      "Nhap chieu dai canh c:14.344\n",
      "Chu vi tam giac: 31.344\n",
      "Dien tich tam giac: 31.995506875855945\n"
     ]
    }
   ],
   "source": [
    "import math\n",
    "# Nhap so do 03 canh tam giac\n",
    "a = float(input(\"Nhap chieu dai canh a:\"))\n",
    "b = float(input(\"Nhap chieu dai canh b:\"))\n",
    "c = float(input(\"Nhap chieu dai canh c:\"))\n",
    "# Nua Chu vi tam giac\n",
    "p = 1/2*(a+b+c)\n",
    "# Dien tich tam giac\n",
    "S = math.sqrt(p*(p-a)*(p-b)*(p-c))\n",
    "print (\"Chu vi tam giac:\",p*2)\n",
    "print (\"Dien tich tam giac:\",S)"
   ]
  },
  {
   "cell_type": "code",
   "execution_count": null,
   "id": "f227e049",
   "metadata": {},
   "outputs": [],
   "source": []
  }
 ],
 "metadata": {
  "kernelspec": {
   "display_name": "Python 3 (ipykernel)",
   "language": "python",
   "name": "python3"
  },
  "language_info": {
   "codemirror_mode": {
    "name": "ipython",
    "version": 3
   },
   "file_extension": ".py",
   "mimetype": "text/x-python",
   "name": "python",
   "nbconvert_exporter": "python",
   "pygments_lexer": "ipython3",
   "version": "3.9.6"
  }
 },
 "nbformat": 4,
 "nbformat_minor": 5
}
