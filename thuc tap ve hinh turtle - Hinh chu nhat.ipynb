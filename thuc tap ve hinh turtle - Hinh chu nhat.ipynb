{
 "cells": [
  {
   "cell_type": "code",
   "execution_count": null,
   "id": "7ffb56bd",
   "metadata": {},
   "outputs": [],
   "source": [
    "import turtle\n",
    "pen = turtle.Turtle()"
   ]
  },
  {
   "cell_type": "code",
   "execution_count": null,
   "id": "4c92710d",
   "metadata": {},
   "outputs": [],
   "source": [
    "pen.goto(50,50)"
   ]
  },
  {
   "cell_type": "code",
   "execution_count": null,
   "id": "571b9805",
   "metadata": {},
   "outputs": [],
   "source": [
    "pen.home()"
   ]
  },
  {
   "cell_type": "code",
   "execution_count": null,
   "id": "013fa3a7",
   "metadata": {},
   "outputs": [],
   "source": [
    "# Ve hinh tron\n",
    "pen.pencolor (\"red\")\n",
    "pen.fillcolor (\"blue\")\n",
    "pen.begin_fill ()\n",
    "pen.circle(50)\n",
    "pen.end_fill ()"
   ]
  },
  {
   "cell_type": "code",
   "execution_count": null,
   "id": "3aa129cb",
   "metadata": {},
   "outputs": [],
   "source": [
    "turtle.bgcolor(\"green\")"
   ]
  },
  {
   "cell_type": "code",
   "execution_count": null,
   "id": "7f0c3d26",
   "metadata": {},
   "outputs": [],
   "source": [
    "# Ve hinh chu nhat\n",
    "m = 200 ;\n",
    "n = 100 ;\n",
    "pen.pencolor (\"red\")\n",
    "pen.fillcolor (\"blue\")\n",
    "pen.begin_fill ()\n",
    "pen.forward (200)\n",
    "pen.right (90)\n",
    "pen.forward (100)\n",
    "pen.right (90)\n",
    "pen.forward (200)\n",
    "pen.right (90)\n",
    "pen.forward (100)\n",
    "pen.right (90)\n",
    "pen.end_fill ()\n",
    "turtle.done ()"
   ]
  },
  {
   "cell_type": "code",
   "execution_count": null,
   "id": "5bd57fd0",
   "metadata": {},
   "outputs": [],
   "source": []
  }
 ],
 "metadata": {
  "kernelspec": {
   "display_name": "Python 3 (ipykernel)",
   "language": "python",
   "name": "python3"
  },
  "language_info": {
   "codemirror_mode": {
    "name": "ipython",
    "version": 3
   },
   "file_extension": ".py",
   "mimetype": "text/x-python",
   "name": "python",
   "nbconvert_exporter": "python",
   "pygments_lexer": "ipython3",
   "version": "3.9.6"
  }
 },
 "nbformat": 4,
 "nbformat_minor": 5
}
