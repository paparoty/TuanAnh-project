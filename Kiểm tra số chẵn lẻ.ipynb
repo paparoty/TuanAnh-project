{
 "cells": [
  {
   "cell_type": "code",
   "execution_count": 2,
   "id": "7ebd9f18",
   "metadata": {},
   "outputs": [
    {
     "name": "stdout",
     "output_type": "stream",
     "text": [
      "Nhập vào số tự nhiên bất kỳ: 5\n",
      "Đây là số lẻ\n"
     ]
    }
   ],
   "source": [
    "# CHƯƠNG TRÌNH KIỂM TRA SỐ CHẴN LẺ\n",
    "num = int(input(\"Nhập vào số tự nhiên bất kỳ: \"))\n",
    "if num%2 ==0:\n",
    "    print (f\"Đây là số chẵn\")\n",
    "else:\n",
    "    print (\"Đây là số lẻ\")"
   ]
  },
  {
   "cell_type": "code",
   "execution_count": null,
   "id": "3536bfc1",
   "metadata": {},
   "outputs": [],
   "source": []
  }
 ],
 "metadata": {
  "kernelspec": {
   "display_name": "Python 3 (ipykernel)",
   "language": "python",
   "name": "python3"
  },
  "language_info": {
   "codemirror_mode": {
    "name": "ipython",
    "version": 3
   },
   "file_extension": ".py",
   "mimetype": "text/x-python",
   "name": "python",
   "nbconvert_exporter": "python",
   "pygments_lexer": "ipython3",
   "version": "3.9.6"
  }
 },
 "nbformat": 4,
 "nbformat_minor": 5
}
