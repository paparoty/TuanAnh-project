{
 "cells": [
  {
   "cell_type": "markdown",
   "id": "33f9d7a5",
   "metadata": {},
   "source": [
    "# Cấu trúc lặp for trong python"
   ]
  },
  {
   "attachments": {
    "image.png": {
     "image/png": "[encoded data removed]"
    }
   },
   "cell_type": "markdown",
   "id": "f64c9eae",
   "metadata": {},
   "source": [
    "## Review: Vẽ kim tự tháp\n",
    "![image.png](attachment:image.png)"
   ]
  },
  {
   "cell_type": "code",
   "execution_count": null,
   "id": "ffcb1603",
   "metadata": {},
   "outputs": [
    {
     "name": "stdout",
     "output_type": "stream",
     "text": [
      "Nhập vào chiều cao kim tự tháp: 5\n"
     ]
    }
   ],
   "source": [
    "# Nhập vào chiều cao kim tự tháp\n",
    "import turtle\n",
    "pen = turtle.Turtle\n",
    "h = int(input(\"Nhập vào chiều cao kim tự tháp: \"))\n",
    "i = 1\n",
    "while i<=h: \n",
    "    turtle.circle (10*i,steps=3)\n",
    "    i+=1\n",
    "turtle.done()\n"
   ]
  },
  {
   "cell_type": "markdown",
   "id": "35ef7a35",
   "metadata": {},
   "source": [
    "## for kết hợp với hàm range()"
   ]
  },
  {
   "cell_type": "markdown",
   "id": "80e01298",
   "metadata": {},
   "source": [
    "### Trường hợp 1 tham số"
   ]
  },
  {
   "cell_type": "code",
   "execution_count": 2,
   "id": "b56eadb4",
   "metadata": {},
   "outputs": [
    {
     "name": "stdout",
     "output_type": "stream",
     "text": [
      "0\n",
      "1\n",
      "2\n",
      "3\n",
      "4\n",
      "5\n",
      "6\n",
      "7\n",
      "8\n",
      "9\n",
      "10\n",
      "------------------\n",
      "0\n",
      "1\n",
      "2\n",
      "3\n",
      "4\n",
      "5\n",
      "6\n",
      "7\n",
      "8\n",
      "9\n",
      "10\n"
     ]
    }
   ],
   "source": [
    "count = 0\n",
    "while count <=10:\n",
    "    print (count)\n",
    "    count += 1\n",
    "print (\"------------------\")\n",
    "for i in range(11):\n",
    "    print(i)"
   ]
  },
  {
   "cell_type": "markdown",
   "id": "b4eb03ed",
   "metadata": {},
   "source": [
    "### Ví dụ: In các số lẻ từ 0 đến 100"
   ]
  },
  {
   "cell_type": "code",
   "execution_count": 3,
   "id": "f73caa14",
   "metadata": {},
   "outputs": [
    {
     "name": "stdout",
     "output_type": "stream",
     "text": [
      "1\n",
      "3\n",
      "5\n",
      "7\n",
      "9\n",
      "11\n",
      "13\n",
      "15\n",
      "17\n",
      "19\n",
      "21\n",
      "23\n",
      "25\n",
      "27\n",
      "29\n",
      "31\n",
      "33\n",
      "35\n",
      "37\n",
      "39\n",
      "41\n",
      "43\n",
      "45\n",
      "47\n",
      "49\n",
      "51\n",
      "53\n",
      "55\n",
      "57\n",
      "59\n",
      "61\n",
      "63\n",
      "65\n",
      "67\n",
      "69\n",
      "71\n",
      "73\n",
      "75\n",
      "77\n",
      "79\n",
      "81\n",
      "83\n",
      "85\n",
      "87\n",
      "89\n",
      "91\n",
      "93\n",
      "95\n",
      "97\n",
      "99\n"
     ]
    }
   ],
   "source": [
    "for i in range(101):\n",
    "    if i%2 != 0:\n",
    "        print (i)"
   ]
  },
  {
   "cell_type": "markdown",
   "id": "5b4c7f1c",
   "metadata": {},
   "source": [
    "### Trường hợp 2 tham số"
   ]
  },
  {
   "cell_type": "code",
   "execution_count": 4,
   "id": "ab369d26",
   "metadata": {},
   "outputs": [
    {
     "name": "stdout",
     "output_type": "stream",
     "text": [
      "50\n",
      "52\n",
      "54\n",
      "56\n",
      "58\n",
      "60\n",
      "62\n",
      "64\n",
      "66\n",
      "68\n",
      "70\n",
      "72\n",
      "74\n",
      "76\n",
      "78\n",
      "80\n",
      "82\n",
      "84\n",
      "86\n",
      "88\n",
      "90\n",
      "92\n",
      "94\n",
      "96\n",
      "98\n",
      "100\n"
     ]
    }
   ],
   "source": [
    "for i in range(50, 101):\n",
    "    if i%2 == 0:\n",
    "        print (i)"
   ]
  },
  {
   "cell_type": "markdown",
   "id": "06853353",
   "metadata": {},
   "source": [
    "### Ví dụ: In các số chia hết cho 7 từ a đến b"
   ]
  },
  {
   "cell_type": "code",
   "execution_count": 10,
   "id": "7b21bcdf",
   "metadata": {},
   "outputs": [
    {
     "name": "stdout",
     "output_type": "stream",
     "text": [
      "Nhập vào số a: 1\n",
      "Nhập vào số b: 49\n",
      "7\n",
      "14\n",
      "21\n",
      "28\n",
      "35\n",
      "42\n",
      "49\n"
     ]
    }
   ],
   "source": [
    "num_a = int(input(\"Nhập vào số a: \"))\n",
    "num_b = int(input(\"Nhập vào số b: \"))\n",
    "\n",
    "for i in range(num_a, num_b +1):\n",
    "    if not i%7:\n",
    "        print (i)"
   ]
  },
  {
   "cell_type": "markdown",
   "id": "5f784920",
   "metadata": {},
   "source": [
    "### Trường hợp 3 tham số"
   ]
  },
  {
   "cell_type": "code",
   "execution_count": 12,
   "id": "f6b32018",
   "metadata": {},
   "outputs": [
    {
     "name": "stdout",
     "output_type": "stream",
     "text": [
      "0\n",
      "5\n",
      "10\n",
      "15\n",
      "20\n",
      "25\n",
      "30\n",
      "35\n",
      "40\n",
      "45\n",
      "50\n",
      "55\n",
      "60\n",
      "65\n",
      "70\n",
      "75\n",
      "80\n",
      "85\n",
      "90\n",
      "95\n",
      "100\n"
     ]
    }
   ],
   "source": [
    "for i in range(0,101,5):\n",
    "    print (i)"
   ]
  },
  {
   "cell_type": "code",
   "execution_count": 18,
   "id": "579abbc9",
   "metadata": {},
   "outputs": [],
   "source": [
    "for i in range (100,-1, 5):\n",
    "    print(i)"
   ]
  },
  {
   "cell_type": "markdown",
   "id": "a4c0fc85",
   "metadata": {},
   "source": [
    "### Ví dụ: Biểu diễn cấp số cộng"
   ]
  },
  {
   "cell_type": "code",
   "execution_count": 24,
   "id": "9e9a5cbf",
   "metadata": {},
   "outputs": [
    {
     "name": "stdout",
     "output_type": "stream",
     "text": [
      "Nhập vào số hạng đầu: 1\n",
      "Nhập vào công sai: 4\n",
      "5\n",
      "9\n",
      "13\n",
      "17\n",
      "21\n",
      "25\n",
      "29\n",
      "33\n",
      "37\n",
      "41\n"
     ]
    }
   ],
   "source": [
    "# Viết chương trình nhập vào số hạng đầu (No) và công sai (d) của 1 cấp số cộng.\n",
    "# In ra 10 số hạng tiếp theo của cấp số cộng đó.\n",
    "\n",
    "n_0 = int(input(\"Nhập vào số hạng đầu: \"))\n",
    "d = int(input(\"Nhập vào công sai: \"))\n",
    "\n",
    "for i in range (n_0 + d , n_0 + d*11,d):\n",
    "    print (i)"
   ]
  },
  {
   "cell_type": "markdown",
   "id": "a2a61887",
   "metadata": {},
   "source": [
    "## lặp qua một chuỗi"
   ]
  },
  {
   "cell_type": "code",
   "execution_count": 25,
   "id": "e495f392",
   "metadata": {},
   "outputs": [
    {
     "name": "stdout",
     "output_type": "stream",
     "text": [
      "T\n",
      "h\n",
      "i\n",
      "s\n",
      " \n",
      "i\n",
      "s\n",
      " \n",
      "a\n",
      " \n",
      "n\n",
      "i\n",
      "c\n",
      "e\n",
      " \n",
      "d\n",
      "a\n",
      "y\n"
     ]
    }
   ],
   "source": [
    "content = \"This is a nice day\"\n",
    "for c in content:\n",
    "    print (c)"
   ]
  },
  {
   "cell_type": "markdown",
   "id": "a4013631",
   "metadata": {},
   "source": [
    "### Ví dụ: Đếm số lượng nguyên âm trong chuỗi"
   ]
  },
  {
   "cell_type": "code",
   "execution_count": 28,
   "id": "319bfb92",
   "metadata": {},
   "outputs": [
    {
     "name": "stdout",
     "output_type": "stream",
     "text": [
      "số lượng nguyên âm trong chuỗi là: 6\n"
     ]
    }
   ],
   "source": [
    "# Viết chương trình đếm số lần xuất hiện các nguyên âm (a,i,e,o,u) trong chuỗi cho trước\n",
    "content = \"This is a nice day\"\n",
    "count = 0\n",
    "for c in content:\n",
    "    if c == \"a\" or c == \"i\" or c == \"e\" or c == \"o\" or c == \"u\":\n",
    "        count += 1\n",
    "print (f\"số lượng nguyên âm trong chuỗi là: {count}\" )"
   ]
  },
  {
   "cell_type": "code",
   "execution_count": 29,
   "id": "b38a4ad8",
   "metadata": {},
   "outputs": [
    {
     "name": "stdout",
     "output_type": "stream",
     "text": [
      "số lượng nguyên âm trong chuỗi là: 6\n"
     ]
    }
   ],
   "source": [
    "# Viết chương trình đếm số lần xuất hiện các nguyên âm (a,i,e,o,u) trong chuỗi cho trước\n",
    "content = \"This is a nice day\"\n",
    "count = 0\n",
    "for c in content:\n",
    "    if c in 'aeiou':\n",
    "        count += 1\n",
    "print (f\"số lượng nguyên âm trong chuỗi là: {count}\" )"
   ]
  },
  {
   "cell_type": "markdown",
   "id": "49bf78d3",
   "metadata": {},
   "source": [
    "## Lặp qua một danh sách chuỗi"
   ]
  },
  {
   "cell_type": "code",
   "execution_count": 33,
   "id": "0a5874cf",
   "metadata": {},
   "outputs": [
    {
     "name": "stdout",
     "output_type": "stream",
     "text": [
      "['Long', 'Huy', 'Khanh', 'Toan', 'Giang']\n",
      "------------\n",
      "Long\n",
      "Huy\n",
      "Khanh\n",
      "Toan\n",
      "Giang\n"
     ]
    }
   ],
   "source": [
    "names = \"Long Huy Hoi Toan Giang\"\n",
    "name_list = names.split()\n",
    "print (name_list)\n",
    "\n",
    "print (\"------------\")\n",
    "for member in name_list:\n",
    "    print (member)"
   ]
  },
  {
   "cell_type": "markdown",
   "id": "be1b5ba5",
   "metadata": {},
   "source": [
    "### Ví dụ: Tìm chuỗi dài nhất"
   ]
  },
  {
   "cell_type": "code",
   "execution_count": 4,
   "id": "d6e7ef2c",
   "metadata": {},
   "outputs": [
    {
     "name": "stdout",
     "output_type": "stream",
     "text": [
      "Tên dài nhất có 6 ký tự là Khương\n"
     ]
    }
   ],
   "source": [
    "# Duyệt tập hợp name_list và cho biết tên dài nhất có bao nhiêu ký tự\n",
    "names = \"Long Huy Khương Giang\"\n",
    "name_list = names.split()\n",
    "max_len = 0\n",
    "max_lenname = \"\"\n",
    "for member in name_list:\n",
    "    if len(member) > max_len:\n",
    "        max_len = len(member)\n",
    "        max_lenname = member\n",
    "print(f\"Tên dài nhất có {max_len} ký tự là {max_lenname}\")"
   ]
  },
  {
   "cell_type": "markdown",
   "id": "69fa4d9f",
   "metadata": {},
   "source": [
    "## Vòng lặp lồng nhau"
   ]
  },
  {
   "cell_type": "code",
   "execution_count": 7,
   "id": "864bc218",
   "metadata": {},
   "outputs": [
    {
     "name": "stdout",
     "output_type": "stream",
     "text": [
      "shirt blue\n",
      "shirt white\n",
      "shirt yellow\n",
      "pants blue\n",
      "pants white\n",
      "pants yellow\n",
      "sweater blue\n",
      "sweater white\n",
      "sweater yellow\n"
     ]
    }
   ],
   "source": [
    "clothes = [\"shirt\",\"pants\",\"sweater\"]\n",
    "colors = [\"blue\",\"white\",\"yellow\"]\n",
    "for item in clothes:\n",
    "    for color in colors:\n",
    "        print (f\"{item} {color}\")"
   ]
  }
 ],
 "metadata": {
  "kernelspec": {
   "display_name": "Python 3 (ipykernel)",
   "language": "python",
   "name": "python3"
  },
  "language_info": {
   "codemirror_mode": {
    "name": "ipython",
    "version": 3
   },
   "file_extension": ".py",
   "mimetype": "text/x-python",
   "name": "python",
   "nbconvert_exporter": "python",
   "pygments_lexer": "ipython3",
   "version": "3.9.7"
  }
 },
 "nbformat": 4,
 "nbformat_minor": 5
}
