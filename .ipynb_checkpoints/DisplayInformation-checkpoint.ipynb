{
 "cells": [
  {
   "cell_type": "code",
   "execution_count": null,
   "id": "93d72001",
   "metadata": {},
   "outputs": [],
   "source": [
    "# Thông tin học viên\n",
    "print (\"****Trần Tuấn Anh*****\")\n",
    "print (\"**Lớp Python căn bản**\")\n",
    "print (\"**Xin chào mọi người**\")"
   ]
  }
 ],
 "metadata": {
  "kernelspec": {
   "display_name": "Python 3 (ipykernel)",
   "language": "python",
   "name": "python3"
  },
  "language_info": {
   "codemirror_mode": {
    "name": "ipython",
    "version": 3
   },
   "file_extension": ".py",
   "mimetype": "text/x-python",
   "name": "python",
   "nbconvert_exporter": "python",
   "pygments_lexer": "ipython3",
   "version": "3.9.6"
  }
 },
 "nbformat": 4,
 "nbformat_minor": 5
}
