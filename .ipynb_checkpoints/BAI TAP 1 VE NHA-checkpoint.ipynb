{
 "cells": [
  {
   "cell_type": "code",
   "execution_count": null,
   "id": "7d228f46",
   "metadata": {},
   "outputs": [],
   "source": [
    "# CHUONG TRINH TU DONG VE NHA"
   ]
  },
  {
   "cell_type": "code",
   "execution_count": 1,
   "id": "b0ec1bff",
   "metadata": {},
   "outputs": [],
   "source": [
    "import turtle"
   ]
  },
  {
   "cell_type": "code",
   "execution_count": 2,
   "id": "9a0f8e57",
   "metadata": {},
   "outputs": [],
   "source": [
    "pen = turtle.Turtle()"
   ]
  },
  {
   "cell_type": "code",
   "execution_count": null,
   "id": "20f6bd82",
   "metadata": {},
   "outputs": [],
   "source": [
    "#1 VE HINH VUONG"
   ]
  },
  {
   "cell_type": "code",
   "execution_count": 3,
   "id": "b42d60db",
   "metadata": {},
   "outputs": [],
   "source": [
    "pen.penup()\n",
    "pen.backward(200)\n",
    "pen.pendown()\n",
    "pen.left(90)\n",
    "pen.forward(200)\n",
    "pen.right(90)\n",
    "pen.forward(200)\n",
    "pen.right(90)\n",
    "pen.forward(200)\n",
    "pen.right(90)\n",
    "pen.forward(200)\n",
    "pen.penup()\n",
    "pen.right(90)\n",
    "pen.forward(200)"
   ]
  },
  {
   "cell_type": "code",
   "execution_count": null,
   "id": "ac0314a3",
   "metadata": {},
   "outputs": [],
   "source": [
    "#2 VE HINH TAM GIAC"
   ]
  },
  {
   "cell_type": "code",
   "execution_count": 4,
   "id": "f31fee30",
   "metadata": {},
   "outputs": [],
   "source": [
    "pen.left(124)\n",
    "pen.pendown()\n",
    "pen.backward(120)\n",
    "pen.right(68)\n",
    "pen.backward(120)\n",
    "pen.right(56)\n",
    "pen.penup()\n",
    "pen.backward(200)\n",
    "pen.right(90)\n",
    "pen.backward(60)"
   ]
  },
  {
   "cell_type": "code",
   "execution_count": null,
   "id": "221673ee",
   "metadata": {},
   "outputs": [],
   "source": []
  },
  {
   "cell_type": "code",
   "execution_count": null,
   "id": "889dd2ec",
   "metadata": {},
   "outputs": [],
   "source": []
  },
  {
   "cell_type": "code",
   "execution_count": null,
   "id": "4713d924",
   "metadata": {},
   "outputs": [],
   "source": []
  }
 ],
 "metadata": {
  "kernelspec": {
   "display_name": "Python 3 (ipykernel)",
   "language": "python",
   "name": "python3"
  },
  "language_info": {
   "codemirror_mode": {
    "name": "ipython",
    "version": 3
   },
   "file_extension": ".py",
   "mimetype": "text/x-python",
   "name": "python",
   "nbconvert_exporter": "python",
   "pygments_lexer": "ipython3",
   "version": "3.9.6"
  }
 },
 "nbformat": 4,
 "nbformat_minor": 5
}
