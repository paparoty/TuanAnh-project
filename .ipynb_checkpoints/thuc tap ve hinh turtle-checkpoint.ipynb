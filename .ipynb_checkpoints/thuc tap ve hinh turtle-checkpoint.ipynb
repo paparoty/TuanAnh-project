{
 "cells": [
  {
   "cell_type": "code",
   "execution_count": 1,
   "id": "7ffb56bd",
   "metadata": {},
   "outputs": [],
   "source": [
    "import turtle\n",
    "pen = turtle.Turtle()\n"
   ]
  },
  {
   "cell_type": "code",
   "execution_count": 3,
   "id": "4c92710d",
   "metadata": {},
   "outputs": [],
   "source": [
    "pen.goto(50,50)"
   ]
  },
  {
   "cell_type": "code",
   "execution_count": 4,
   "id": "571b9805",
   "metadata": {},
   "outputs": [],
   "source": [
    "pen.home()"
   ]
  },
  {
   "cell_type": "code",
   "execution_count": 5,
   "id": "013fa3a7",
   "metadata": {},
   "outputs": [],
   "source": [
    "pen.circle(50)"
   ]
  },
  {
   "cell_type": "code",
   "execution_count": 9,
   "id": "3aa129cb",
   "metadata": {},
   "outputs": [],
   "source": [
    "turtle.bgcolor(\"green\")"
   ]
  }
 ],
 "metadata": {
  "kernelspec": {
   "display_name": "Python 3 (ipykernel)",
   "language": "python",
   "name": "python3"
  },
  "language_info": {
   "codemirror_mode": {
    "name": "ipython",
    "version": 3
   },
   "file_extension": ".py",
   "mimetype": "text/x-python",
   "name": "python",
   "nbconvert_exporter": "python",
   "pygments_lexer": "ipython3",
   "version": "3.9.6"
  }
 },
 "nbformat": 4,
 "nbformat_minor": 5
}
