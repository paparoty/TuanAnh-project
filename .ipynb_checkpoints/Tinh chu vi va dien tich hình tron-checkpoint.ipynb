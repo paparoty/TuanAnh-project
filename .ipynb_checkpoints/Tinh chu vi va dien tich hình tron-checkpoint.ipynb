{
 "cells": [
  {
   "cell_type": "code",
   "execution_count": null,
   "id": "5d6bb3cc",
   "metadata": {},
   "outputs": [],
   "source": [
    "# THỰC HÀNH TÍNH CHU VI VÀ DIỆN TÍCH HÌNH TRÒN\n",
    "# nhập vào bán kính, vẽ hình tròn theo bán kính đã nhập. Tính chu vi và diện tích hình tròn, hiển thị kết quả."
   ]
  },
  {
   "cell_type": "code",
   "execution_count": 1,
   "id": "45ce5141",
   "metadata": {},
   "outputs": [
    {
     "name": "stdout",
     "output_type": "stream",
     "text": [
      "Nhập vào bán kính hình tròn:10\n"
     ]
    }
   ],
   "source": [
    "# B1: Nhập Bán kính hình tròn\n",
    "r = int(input (\"Nhập vào bán kính hình tròn:\"))"
   ]
  },
  {
   "cell_type": "code",
   "execution_count": 10,
   "id": "283f48a8",
   "metadata": {},
   "outputs": [
    {
     "name": "stdout",
     "output_type": "stream",
     "text": [
      "Chu vi hình tròn:  63\n",
      "Diện tích hình tròn:  314\n"
     ]
    }
   ],
   "source": [
    "# B2: Tính toán chu vi và dien tich\n",
    "# Chu vi = pi*2*r\n",
    "# Dien tich = pi*r*r\n",
    "from math import pi\n",
    "P = round(pi*2*r)\n",
    "S = round(pi*(r**2))\n",
    "print (\"Chu vi hình tròn: \", P)\n",
    "print (\"Diện tích hình tròn: \", S)"
   ]
  },
  {
   "cell_type": "code",
   "execution_count": null,
   "id": "906f494d",
   "metadata": {},
   "outputs": [],
   "source": [
    "import turtle\n",
    "pen = turtle.Turtle()\n",
    "pen.circle(r)\n",
    "turtle.done()"
   ]
  }
 ],
 "metadata": {
  "kernelspec": {
   "display_name": "Python 3 (ipykernel)",
   "language": "python",
   "name": "python3"
  },
  "language_info": {
   "codemirror_mode": {
    "name": "ipython",
    "version": 3
   },
   "file_extension": ".py",
   "mimetype": "text/x-python",
   "name": "python",
   "nbconvert_exporter": "python",
   "pygments_lexer": "ipython3",
   "version": "3.9.7"
  }
 },
 "nbformat": 4,
 "nbformat_minor": 5
}
