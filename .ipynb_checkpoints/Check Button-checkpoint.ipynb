{
 "cells": [
  {
   "cell_type": "code",
   "execution_count": 4,
   "id": "200b56b2",
   "metadata": {},
   "outputs": [
    {
     "name": "stdout",
     "output_type": "stream",
     "text": [
      "It is an apple\n",
      "It is a banana\n",
      "It is an apple\n",
      "It is an apple\n"
     ]
    }
   ],
   "source": [
    "from tkinter import *\n",
    "windows = Tk()\n",
    "windows.geometry(\"300x400\")\n",
    "\n",
    "def apple_button_click():\n",
    "    print(\"It is an apple\")\n",
    "def banana_button_click():\n",
    "    print(\"It is a banana\")\n",
    "    \n",
    "b1 = Button(windows, text = \"Apple\", command=apple_button_click)\n",
    "b1.grid(column = 10, row = 1)\n",
    "\n",
    "b2 = Button(windows, text = \"Banana\", command=banana_button_click)\n",
    "b2.grid(column = 15, row = 1)\n",
    "\n",
    "windows.mainloop()"
   ]
  },
  {
   "cell_type": "code",
   "execution_count": null,
   "id": "911600fd",
   "metadata": {},
   "outputs": [],
   "source": []
  }
 ],
 "metadata": {
  "kernelspec": {
   "display_name": "Python 3 (ipykernel)",
   "language": "python",
   "name": "python3"
  },
  "language_info": {
   "codemirror_mode": {
    "name": "ipython",
    "version": 3
   },
   "file_extension": ".py",
   "mimetype": "text/x-python",
   "name": "python",
   "nbconvert_exporter": "python",
   "pygments_lexer": "ipython3",
   "version": "3.10.0"
  }
 },
 "nbformat": 4,
 "nbformat_minor": 5
}
