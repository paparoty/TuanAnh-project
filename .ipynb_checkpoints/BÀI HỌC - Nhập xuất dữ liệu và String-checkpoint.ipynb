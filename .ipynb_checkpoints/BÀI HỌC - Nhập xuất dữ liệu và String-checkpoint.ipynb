{
 "cells": [
  {
   "cell_type": "markdown",
   "id": "7ac14915",
   "metadata": {},
   "source": [
    "# Nhập xuất dữ liệu và String\n",
    "## Cách nhập xuất dữ liệu"
   ]
  },
  {
   "cell_type": "markdown",
   "id": "0f202ae8",
   "metadata": {},
   "source": [
    "### Xuất dữ liệu ra màn hình\n",
    "Để in các nội dung mà chúng ta mong muốn ra màn hình, ta sử dụng lệnh print()"
   ]
  },
  {
   "cell_type": "code",
   "execution_count": null,
   "id": "a6d3f260",
   "metadata": {},
   "outputs": [],
   "source": [
    "# Ví dụ: In ra nội dung \"python is very easy\"\n",
    "print (\"Python is very easy\")"
   ]
  },
  {
   "cell_type": "markdown",
   "id": "7733925a",
   "metadata": {},
   "source": [
    "### Các cách custom với lệnh print"
   ]
  },
  {
   "cell_type": "markdown",
   "id": "292ab570",
   "metadata": {},
   "source": [
    "Để in một nội dung kèm theo giá trị của biến, ta có các cách sau:"
   ]
  },
  {
   "cell_type": "code",
   "execution_count": null,
   "id": "20ff912c",
   "metadata": {},
   "outputs": [],
   "source": [
    "# I love chocolate and I hate sandwich\n",
    "food_1 = \"chocolate\"\n",
    "food_2 = \"sandwich\""
   ]
  },
  {
   "cell_type": "code",
   "execution_count": null,
   "id": "6407a448",
   "metadata": {},
   "outputs": [],
   "source": [
    "# In trực tiếp\n",
    "print (\"I love chocolate and I hate sandwich\")"
   ]
  },
  {
   "cell_type": "code",
   "execution_count": null,
   "id": "27d098b8",
   "metadata": {},
   "outputs": [],
   "source": [
    "# In bằng cách ghép các nội dung với nhau\n",
    "food_1 = \"chocolate\"\n",
    "food_2 = \"sandwich\"\n",
    "print (\"I love\", food_1,\"and I hate\", food_2)\n",
    "print (\"I love\", food_1,\"and I hate\", food_2, sep='--') \n",
    "# để thay đổi ký tự nối giữa các nội dung trong lệnh print, chúng ta sử dụng cú pháp sep='...'\n",
    "# sep là viết tắt của từ separate"
   ]
  },
  {
   "cell_type": "code",
   "execution_count": null,
   "id": "717666f2",
   "metadata": {},
   "outputs": [],
   "source": [
    "# Sử dụng String Format\n",
    "food_1 = \"chocolate\"\n",
    "food_2 = \"sandwich\"\n",
    "print (f\"I love {food_1} and I hate {food_2}\")"
   ]
  },
  {
   "cell_type": "code",
   "execution_count": null,
   "id": "c7276e05",
   "metadata": {},
   "outputs": [],
   "source": [
    "# Sử dụng nhiều lệnh print\n",
    "print (\"I love\", end=\" \")\n",
    "print (food_1, end=\" \")\n",
    "print (\"and I hate\", end=\" \")\n",
    "print (food_2)"
   ]
  },
  {
   "cell_type": "markdown",
   "id": "e10788fb",
   "metadata": {},
   "source": [
    "### Nhập dữ liệu\n",
    "Để nhập dữ liệu vào chương trình python, chúng ta sử dụng hàm input()"
   ]
  },
  {
   "cell_type": "code",
   "execution_count": null,
   "id": "b8b8afd3",
   "metadata": {},
   "outputs": [],
   "source": [
    "input()"
   ]
  },
  {
   "cell_type": "code",
   "execution_count": null,
   "id": "8231bda7",
   "metadata": {},
   "outputs": [],
   "source": [
    "chieu_dai = int(input(\"Hãy nhập chiều dài của hình chữ nhật: \"))\n",
    "print(chieu_dai)\n",
    "print(type(chieu_dai))"
   ]
  },
  {
   "cell_type": "markdown",
   "id": "337f9c15",
   "metadata": {},
   "source": [
    "#### Thực hành: Viết chương trình nhập vào chiều dài và chiều rộng của hình chữ nhật, sau đó in ra chu vi và diện tích của hình chữ nhật đó"
   ]
  },
  {
   "cell_type": "code",
   "execution_count": null,
   "id": "add68103",
   "metadata": {},
   "outputs": [],
   "source": [
    "# Nhập các kích thước của hình chữ nhật\n",
    "print(\"Nhập các cạnh của hình chữ nhật theo đơn vị mét\")\n",
    "a = int(input(\"Nhập chiều dài a : \"))\n",
    "b = int(input(\"Nhập chiều rộng b: \"))\n",
    "# Tính toán Chu vi & dien tich\n",
    "P = (a+b)*2\n",
    "S = a*b\n",
    "print(\"Chu vi hình chữ nhật:\", P, \"(m)\")\n",
    "print(\"Diện tích hình chữ nhật:\", S, \"(m2)\")"
   ]
  },
  {
   "cell_type": "code",
   "execution_count": null,
   "id": "7a1cd73e",
   "metadata": {},
   "outputs": [],
   "source": [
    "# Tính toán chu vi, diện tích\n"
   ]
  },
  {
   "cell_type": "code",
   "execution_count": null,
   "id": "d0adf735",
   "metadata": {},
   "outputs": [],
   "source": [
    "# In kết quả ra màn hình bằng 3 cách"
   ]
  },
  {
   "cell_type": "markdown",
   "id": "fb54cb77",
   "metadata": {},
   "source": [
    "#### Thực hành: Viết chương trình nhập vào số đo cạnh và mã màu của tam giác đều, sau đó sử dụng turtle để vẽ ra hình tam giác có số đo và màu tương ứng"
   ]
  },
  {
   "cell_type": "code",
   "execution_count": null,
   "id": "7583b308",
   "metadata": {},
   "outputs": [],
   "source": [
    "print(\"Hãy vẽ một tam giác đều có cạnh a, và mã màu bạn chọn!\")\n",
    "a = int(input(\"Nhập cạnh tam giác a:\"))\n",
    "color_1 = input(\"Nhập mã màu: \")\n",
    "# Vẽ tam giác đều:\n",
    "import turtle\n",
    "turtle.fillcolor(color_1)\n",
    "turtle.begin_fill()\n",
    "turtle.circle(a, steps=3)\n",
    "turtle.end_fill()\n",
    "turtle.done()"
   ]
  },
  {
   "cell_type": "markdown",
   "id": "fa7cb208",
   "metadata": {},
   "source": [
    "## Cú pháp import"
   ]
  },
  {
   "cell_type": "markdown",
   "id": "ab2a2ea5",
   "metadata": {},
   "source": [
    "Để sử dụng một module từ bên ngoài, chúng ta sẽ sử dụng từ khóa import. Sau đây là ví dụ về một số cách import phổ biến."
   ]
  },
  {
   "cell_type": "markdown",
   "id": "bd6de377",
   "metadata": {},
   "source": [
    "### Random một giá trị ngẫu nhiên"
   ]
  },
  {
   "cell_type": "code",
   "execution_count": null,
   "id": "ce5547f5",
   "metadata": {},
   "outputs": [],
   "source": [
    "import random as r # import thư viện random vào chương trình và đặt tên là r (tên nội bộ trong chương trình)\n",
    "print (random.randint(0,101))"
   ]
  },
  {
   "cell_type": "markdown",
   "id": "dfa93dc0",
   "metadata": {},
   "source": [
    "### Thực hiện các phép toán số học"
   ]
  },
  {
   "cell_type": "code",
   "execution_count": 5,
   "id": "4f06f722",
   "metadata": {},
   "outputs": [
    {
     "name": "stdout",
     "output_type": "stream",
     "text": [
      "3.141592653589793\n"
     ]
    }
   ],
   "source": [
    "# import toàn bộ module\n",
    "import math\n",
    "print(math.pi)"
   ]
  },
  {
   "cell_type": "code",
   "execution_count": 11,
   "id": "6b9e471b",
   "metadata": {},
   "outputs": [
    {
     "ename": "SyntaxError",
     "evalue": "invalid syntax (Temp/ipykernel_26844/2742166948.py, line 2)",
     "output_type": "error",
     "traceback": [
      "\u001b[1;36m  File \u001b[1;32m\"C:\\Users\\TUANAN~1\\AppData\\Local\\Temp/ipykernel_26844/2742166948.py\"\u001b[1;36m, line \u001b[1;32m2\u001b[0m\n\u001b[1;33m    import math import pi\u001b[0m\n\u001b[1;37m                ^\u001b[0m\n\u001b[1;31mSyntaxError\u001b[0m\u001b[1;31m:\u001b[0m invalid syntax\n"
     ]
    }
   ],
   "source": [
    "# import một phần trong module\n",
    "import math import pi\n",
    "print(math.pi)"
   ]
  },
  {
   "cell_type": "markdown",
   "id": "391969e7",
   "metadata": {},
   "source": [
    "## Xử lý String trong python"
   ]
  },
  {
   "cell_type": "markdown",
   "id": "ab461669",
   "metadata": {},
   "source": [
    "### String là gì?\n",
    "String là một chuỗi gồm các ký tự Unicode"
   ]
  },
  {
   "cell_type": "markdown",
   "id": "94a27b90",
   "metadata": {},
   "source": [
    "### Khởi tạo một string"
   ]
  },
  {
   "cell_type": "code",
   "execution_count": 13,
   "id": "b14f4fcc",
   "metadata": {},
   "outputs": [],
   "source": [
    "# one-line string\n",
    "course = \"Python\"\n",
    "gender = \"M\"\n",
    "question = \"What 's your name?\""
   ]
  },
  {
   "cell_type": "code",
   "execution_count": 14,
   "id": "9cc506a7",
   "metadata": {},
   "outputs": [],
   "source": [
    "# multi-line string\n",
    "shape = '''\n",
    "*\n",
    "**\n",
    "***\n",
    "****\n",
    "*****\n",
    "'''"
   ]
  },
  {
   "cell_type": "markdown",
   "id": "8f4270fd",
   "metadata": {},
   "source": [
    "### Các thao tác phổ biến với string"
   ]
  },
  {
   "cell_type": "code",
   "execution_count": 15,
   "id": "c825f890",
   "metadata": {},
   "outputs": [
    {
     "name": "stdout",
     "output_type": "stream",
     "text": [
      "5\n",
      "21\n"
     ]
    }
   ],
   "source": [
    "# Kiểm tra độ dài string\n",
    "print(len(\"Hello\"))\n",
    "print(len(shape))"
   ]
  },
  {
   "cell_type": "code",
   "execution_count": 19,
   "id": "6de96621",
   "metadata": {},
   "outputs": [
    {
     "name": "stdout",
     "output_type": "stream",
     "text": [
      "o\n",
      "o\n"
     ]
    }
   ],
   "source": [
    "# Truy xuất ký tự bằng cơ chế indexing và reverse indexing\n",
    "print(course[4]) # indexing: đánh index (vị trí) từ trái qua phải, bắt đầu từ số 0\n",
    "print(course[-2]) # reverse indexing: đánh index từ phải qua trái, bắt đầu từ -1"
   ]
  },
  {
   "cell_type": "markdown",
   "id": "a4f949d9",
   "metadata": {},
   "source": [
    "#### Thực hành: Viết chương trình nhập vào một chuỗi bất kỳ, sau đó in ra ký tự đầu tiên và ký tự cuối cùng của chuỗi đó."
   ]
  },
  {
   "cell_type": "code",
   "execution_count": 22,
   "id": "14833f18",
   "metadata": {},
   "outputs": [
    {
     "name": "stdout",
     "output_type": "stream",
     "text": [
      "Nhập 1 chuỗi bất kỳ: ahhádigưdshfgninúa gu\n",
      "ký tự đầu tiên:  a\n",
      "ký tự cuối cùng:  u\n"
     ]
    }
   ],
   "source": [
    "Chuoi_ky_tu = input(\"Nhập 1 chuỗi bất kỳ: \")\n",
    "print(\"ký tự đầu tiên: \",Chuoi_ky_tu[0])\n",
    "print(\"ký tự cuối cùng: \", Chuoi_ky_tu[-1])"
   ]
  },
  {
   "cell_type": "code",
   "execution_count": 24,
   "id": "9aad2f16",
   "metadata": {},
   "outputs": [
    {
     "name": "stdout",
     "output_type": "stream",
     "text": [
      "Python\n",
      "Nguyen Van A\n",
      "Student,Python,5\n"
     ]
    }
   ],
   "source": [
    "# Cắt string theo index\n",
    "s = \"Nguyen Van A,Student,Python,5\"\n",
    "print(s[21:27]) # bắt đầu từ ký tự muốn cắt đến sau ký tự cần dừng lại\n",
    "print(s[:12])\n",
    "print(s[13:])"
   ]
  },
  {
   "cell_type": "code",
   "execution_count": 27,
   "id": "6ec63f90",
   "metadata": {},
   "outputs": [
    {
     "name": "stdout",
     "output_type": "stream",
     "text": [
      "My name is Nguyễn Văn A. I am a StudentMy name is Nguyễn Văn A. I am a StudentMy name is Nguyễn Văn A. I am a StudentMy name is Nguyễn Văn A. I am a StudentMy name is Nguyễn Văn A. I am a Student\n"
     ]
    }
   ],
   "source": [
    "# Ghép chuỗi và lặp chuỗi\n",
    "name = \"Nguyễn Văn A\"\n",
    "role = \"Student\"\n",
    "course = \"My name is \" + name + \". I am a \" + role\n",
    "print(course*5)"
   ]
  },
  {
   "cell_type": "markdown",
   "id": "84c2dcb9",
   "metadata": {},
   "source": [
    "#### Thực hành: Xử lý và in ra các thông tin tương ứng trong chuỗi"
   ]
  },
  {
   "cell_type": "code",
   "execution_count": 34,
   "id": "cd71f135",
   "metadata": {},
   "outputs": [
    {
     "name": "stdout",
     "output_type": "stream",
     "text": [
      "CodeGym\n",
      "Python Fundamental\n",
      "lesson 6\n"
     ]
    }
   ],
   "source": [
    "s = \"CodeGym-Python Fundamental-lesson 6\"\n",
    "print(s[:7])\n",
    "print(s[8:26])\n",
    "print(s[-8:])"
   ]
  },
  {
   "cell_type": "markdown",
   "id": "7cbd965f",
   "metadata": {},
   "source": [
    "### Các hàm thông dụng khi xử lý string"
   ]
  },
  {
   "cell_type": "code",
   "execution_count": null,
   "id": "eb5932a1",
   "metadata": {},
   "outputs": [],
   "source": [
    "# len"
   ]
  },
  {
   "cell_type": "code",
   "execution_count": null,
   "id": "6bef6d33",
   "metadata": {},
   "outputs": [],
   "source": [
    "# count"
   ]
  },
  {
   "cell_type": "code",
   "execution_count": null,
   "id": "1582bbd8",
   "metadata": {},
   "outputs": [],
   "source": [
    "# upper, lower"
   ]
  },
  {
   "cell_type": "code",
   "execution_count": 5,
   "id": "0d08f708",
   "metadata": {},
   "outputs": [
    {
     "name": "stdout",
     "output_type": "stream",
     "text": [
      "   LÂM ĐỨC LONG  !!!\n",
      "LÂM ĐỨC LONG  !!!\n",
      "   LÂM ĐỨC LONG !!!\n",
      "LÂM ĐỨC LONG !!!\n"
     ]
    }
   ],
   "source": [
    "# lstrip, rstrip, strip\n",
    "# trailing spaces\n",
    "name = \"   LÂM ĐỨC LONG \"\n",
    "print(name, \"!!!\")\n",
    "print(name.lstrip(), \"!!!\")\n",
    "print(name.rstrip(), \"!!!\")\n",
    "print(name.strip(), \"!!!\")"
   ]
  },
  {
   "cell_type": "code",
   "execution_count": 7,
   "id": "62180d52",
   "metadata": {},
   "outputs": [
    {
     "name": "stdout",
     "output_type": "stream",
     "text": [
      "['Siri', ' synoymous to every other virtual assisstant', ' is still one of the best ']\n"
     ]
    }
   ],
   "source": [
    "# split\n",
    "# cắt nhỏ chuỗi bằng delimiter cho trước\n",
    "s = \"Siri, synoymous to every other virtual assisstant, is still one of the best \"\n",
    "print(s.split(','))"
   ]
  },
  {
   "cell_type": "markdown",
   "id": "032ba1fc",
   "metadata": {},
   "source": []
  }
 ],
 "metadata": {
  "kernelspec": {
   "display_name": "Python 3 (ipykernel)",
   "language": "python",
   "name": "python3"
  },
  "language_info": {
   "codemirror_mode": {
    "name": "ipython",
    "version": 3
   },
   "file_extension": ".py",
   "mimetype": "text/x-python",
   "name": "python",
   "nbconvert_exporter": "python",
   "pygments_lexer": "ipython3",
   "version": "3.9.7"
  }
 },
 "nbformat": 4,
 "nbformat_minor": 5
}
