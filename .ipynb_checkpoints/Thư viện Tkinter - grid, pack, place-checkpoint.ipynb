{
 "cells": [
  {
   "cell_type": "code",
   "execution_count": 12,
   "id": "334dfc6d",
   "metadata": {},
   "outputs": [],
   "source": [
    "# Setup windows\n",
    "from tkinter import *\n",
    "windows = Tk()\n",
    "windows.geometry(\"400x300\")\n",
    "\n",
    "message_label = Label(windows, text = \"Please enter email and password to login\")\n",
    "\n",
    "username_label = Label(windows, text = \"User 's name\")\n",
    "\n",
    "password_label = Label(windows, text = \"Password\")\n",
    "\n",
    "username_entry = Entry(windows)\n",
    "\n",
    "password_entry = Entry(windows)\n",
    "\n",
    "login_button = Button(windows, text=\"Login\", command = None)\n"
   ]
  },
  {
   "cell_type": "markdown",
   "id": "4c559a90",
   "metadata": {},
   "source": [
    "## pack"
   ]
  },
  {
   "cell_type": "code",
   "execution_count": 2,
   "id": "d6af98e3",
   "metadata": {},
   "outputs": [],
   "source": [
    "message_label.pack()\n",
    "\n",
    "username_label.pack()\n",
    "username_entry.pack()\n",
    "\n",
    "password_label.pack()\n",
    "password_entry.pack()\n",
    "\n",
    "login_button.pack()"
   ]
  },
  {
   "cell_type": "markdown",
   "id": "0093b00d",
   "metadata": {},
   "source": [
    "## grid"
   ]
  },
  {
   "cell_type": "code",
   "execution_count": 5,
   "id": "d89cd306",
   "metadata": {},
   "outputs": [],
   "source": [
    "message_label.grid(column=1, row=0)\n",
    "\n",
    "username_label.grid(column=0, row=1)\n",
    "username_entry.grid(column=1, row=1)\n",
    "password_label.grid(column=0, row=2)\n",
    "password_entry.grid(column=1, row=2)\n",
    "\n",
    "login_button.grid(column=1, row=3)"
   ]
  },
  {
   "cell_type": "markdown",
   "id": "f0a05577",
   "metadata": {},
   "source": [
    "## place"
   ]
  },
  {
   "cell_type": "code",
   "execution_count": 13,
   "id": "070e6374",
   "metadata": {},
   "outputs": [],
   "source": [
    "message_label.place(x=60, y=10)\n",
    "\n",
    "username_label.place(x=10, y=40)\n",
    "username_entry.place(x=90, y=40)\n",
    "password_label.place(x=10, y=80)\n",
    "password_entry.place(x=90, y=80)\n",
    "\n",
    "login_button.place(x=150, y=120)"
   ]
  },
  {
   "cell_type": "code",
   "execution_count": 14,
   "id": "e6a6e727",
   "metadata": {},
   "outputs": [],
   "source": [
    "windows.mainloop()"
   ]
  },
  {
   "cell_type": "code",
   "execution_count": null,
   "id": "e9886b35",
   "metadata": {},
   "outputs": [],
   "source": []
  }
 ],
 "metadata": {
  "kernelspec": {
   "display_name": "Python 3 (ipykernel)",
   "language": "python",
   "name": "python3"
  },
  "language_info": {
   "codemirror_mode": {
    "name": "ipython",
    "version": 3
   },
   "file_extension": ".py",
   "mimetype": "text/x-python",
   "name": "python",
   "nbconvert_exporter": "python",
   "pygments_lexer": "ipython3",
   "version": "3.10.0"
  }
 },
 "nbformat": 4,
 "nbformat_minor": 5
}
