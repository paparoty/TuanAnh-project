{
 "cells": [
  {
   "cell_type": "code",
   "execution_count": 5,
   "id": "9ed92406",
   "metadata": {},
   "outputs": [
    {
     "name": "stdout",
     "output_type": "stream",
     "text": [
      "Nhập vào giá USD: 5\n",
      "Số tiền VND tương ứng: 113922\n"
     ]
    }
   ],
   "source": [
    "# CHUYỂN ĐỔI TỶ GIÁ NGOẠI TỆ SANG VNĐ\n",
    "cost_1 = float(input(\"Nhập vào giá USD: \"))\n",
    "rate_USD = 22784.38\n",
    "print(f\"Số tiền VND tương ứng: {round(cost_1*rate_USD)}\")"
   ]
  },
  {
   "cell_type": "markdown",
   "id": "781ea88f",
   "metadata": {},
   "source": [
    "## "
   ]
  }
 ],
 "metadata": {
  "kernelspec": {
   "display_name": "Python 3 (ipykernel)",
   "language": "python",
   "name": "python3"
  },
  "language_info": {
   "codemirror_mode": {
    "name": "ipython",
    "version": 3
   },
   "file_extension": ".py",
   "mimetype": "text/x-python",
   "name": "python",
   "nbconvert_exporter": "python",
   "pygments_lexer": "ipython3",
   "version": "3.9.6"
  }
 },
 "nbformat": 4,
 "nbformat_minor": 5
}
