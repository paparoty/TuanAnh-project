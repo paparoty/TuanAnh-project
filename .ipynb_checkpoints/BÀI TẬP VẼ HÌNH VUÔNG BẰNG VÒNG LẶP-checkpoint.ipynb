{
 "cells": [
  {
   "cell_type": "code",
   "execution_count": null,
   "id": "7c4692af",
   "metadata": {},
   "outputs": [],
   "source": [
    "# Thực hành vẽ hình vuông bằng vòng lặp\n",
    "import turtle\n",
    "pen = turtle.Turtle()\n",
    "slide = int(input(\"Nhập vào chiều dài cạnh hình vuông: \"))\n",
    "i = 1\n",
    "while i <=4:\n",
    "    pen.forward(slide)\n",
    "    pen.right(90)\n",
    "    i +=1\n",
    "turtle.done()"
   ]
  },
  {
   "cell_type": "code",
   "execution_count": 1,
   "id": "9f788b02",
   "metadata": {},
   "outputs": [
    {
     "name": "stdout",
     "output_type": "stream",
     "text": [
      "Nhập vào chiều dài cạnh hình vuông: 150\n"
     ]
    }
   ],
   "source": [
    "import turtle\n",
    "pen = turtle.Turtle()\n",
    "slide = int(input(\"Nhập vào chiều dài cạnh hình vuông: \"))\n",
    "for i in range (1,5):\n",
    "    pen.forward(slide)\n",
    "    pen.right(90)\n",
    "turtle.done()"
   ]
  },
  {
   "cell_type": "code",
   "execution_count": null,
   "id": "1cdfbb38",
   "metadata": {},
   "outputs": [],
   "source": []
  }
 ],
 "metadata": {
  "kernelspec": {
   "display_name": "Python 3 (ipykernel)",
   "language": "python",
   "name": "python3"
  },
  "language_info": {
   "codemirror_mode": {
    "name": "ipython",
    "version": 3
   },
   "file_extension": ".py",
   "mimetype": "text/x-python",
   "name": "python",
   "nbconvert_exporter": "python",
   "pygments_lexer": "ipython3",
   "version": "3.9.6"
  }
 },
 "nbformat": 4,
 "nbformat_minor": 5
}
