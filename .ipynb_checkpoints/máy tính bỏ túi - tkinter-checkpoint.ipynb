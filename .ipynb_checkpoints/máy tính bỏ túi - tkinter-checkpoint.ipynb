{
 "cells": [
  {
   "cell_type": "code",
   "execution_count": 24,
   "id": "b8f1e358",
   "metadata": {},
   "outputs": [],
   "source": [
    "from tkinter import *"
   ]
  },
  {
   "cell_type": "code",
   "execution_count": 25,
   "id": "c4356206",
   "metadata": {},
   "outputs": [
    {
     "data": {
      "text/plain": [
       "''"
      ]
     },
     "execution_count": 25,
     "metadata": {},
     "output_type": "execute_result"
    }
   ],
   "source": [
    "windows = Tk()\n",
    "windows.title(\"Calculator application\")"
   ]
  },
  {
   "cell_type": "code",
   "execution_count": 26,
   "id": "bc6d4c11",
   "metadata": {},
   "outputs": [],
   "source": [
    "app_name = Label(windows, text =\"CHƯƠNG TRÌNH MÁY TÍNH CĂN BẢN\")\n",
    "app_name.pack()"
   ]
  },
  {
   "cell_type": "code",
   "execution_count": 27,
   "id": "5a5eaecd",
   "metadata": {},
   "outputs": [],
   "source": [
    "entry_text1 = Label(windows, text =\"ENTRY NUMBER 01\")\n",
    "entry_text1.pack()\n",
    "number1 = Entry(windows)\n",
    "number1.pack()\n",
    "\n"
   ]
  },
  {
   "cell_type": "code",
   "execution_count": 28,
   "id": "ac7f9601",
   "metadata": {},
   "outputs": [],
   "source": [
    "entry_text2 = Label(windows, text =\"ENTRY NUMBER 02\")\n",
    "entry_text2.pack()\n",
    "number2 = Entry(windows)\n",
    "number2.pack()\n"
   ]
  },
  {
   "cell_type": "code",
   "execution_count": 29,
   "id": "5afb607d",
   "metadata": {},
   "outputs": [],
   "source": [
    "def phep_tinh_cong():\n",
    "    a = int(number1.get())\n",
    "    b = int(number2.get())\n",
    "    kq = a + b\n",
    "    result.config(text = kq)\n",
    "    return result\n",
    "\n",
    "def phep_tinh_tru():\n",
    "    a = int(number1.get())\n",
    "    b = int(number2.get())\n",
    "    kq = a - b\n",
    "    result.config(text = kq)\n",
    "    return result\n",
    "\n",
    "def phep_tinh_nhan():\n",
    "    a = int(number1.get())\n",
    "    b = int(number2.get())\n",
    "    kq = a * b\n",
    "    result.config(text = kq)\n",
    "    return result\n",
    "\n",
    "def phep_tinh_chia():\n",
    "    a = int(number1.get())\n",
    "    b = int(number2.get())\n",
    "    kq = a / b\n",
    "    result.config(text = kq)\n",
    "    return result\n",
    "\n",
    "\n",
    "addition_button = Button(windows, text = \"+\", command = phep_tinh_cong)\n",
    "addition_button.pack()\n",
    "\n",
    "subtract_button = Button(windows, text = \"-\", command = phep_tinh_tru)\n",
    "subtract_button.pack()\n",
    "\n",
    "multi_button = Button(windows, text = \"*\", command = phep_tinh_nhan)\n",
    "multi_button.pack()\n",
    "\n",
    "divide_button = Button(windows, text = \"/\", command = phep_tinh_chia)\n",
    "divide_button.pack()"
   ]
  },
  {
   "cell_type": "code",
   "execution_count": 30,
   "id": "3de0e6ca",
   "metadata": {},
   "outputs": [],
   "source": [
    "result = Label(windows, text = \"result\")\n",
    "result.pack()"
   ]
  },
  {
   "cell_type": "code",
   "execution_count": 31,
   "id": "ed8c4843",
   "metadata": {},
   "outputs": [],
   "source": [
    "# Chạy ứng dụng\n",
    "windows.mainloop()"
   ]
  },
  {
   "cell_type": "code",
   "execution_count": null,
   "id": "067c8219",
   "metadata": {},
   "outputs": [],
   "source": []
  }
 ],
 "metadata": {
  "kernelspec": {
   "display_name": "Python 3 (ipykernel)",
   "language": "python",
   "name": "python3"
  },
  "language_info": {
   "codemirror_mode": {
    "name": "ipython",
    "version": 3
   },
   "file_extension": ".py",
   "mimetype": "text/x-python",
   "name": "python",
   "nbconvert_exporter": "python",
   "pygments_lexer": "ipython3",
   "version": "3.10.0"
  }
 },
 "nbformat": 4,
 "nbformat_minor": 5
}
