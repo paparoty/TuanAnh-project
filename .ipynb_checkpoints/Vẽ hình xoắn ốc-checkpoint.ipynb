{
 "cells": [
  {
   "cell_type": "code",
   "execution_count": null,
   "id": "77d9b116",
   "metadata": {},
   "outputs": [],
   "source": [
    "import turtle\n",
    "pen = turtle.Turtle()\n",
    "for x in range(20,200,5):\n",
    "    pen.circle(x,90)\n"
   ]
  },
  {
   "cell_type": "code",
   "execution_count": null,
   "id": "4d90f527",
   "metadata": {},
   "outputs": [],
   "source": [
    "import turtle\n",
    "pen = turtle.Turtle()\n",
    "x = 20\n",
    "while x < 200:\n",
    "    pen.circle(x,90)\n",
    "    x += 5"
   ]
  },
  {
   "cell_type": "code",
   "execution_count": null,
   "id": "e3e8e2fe",
   "metadata": {},
   "outputs": [],
   "source": []
  }
 ],
 "metadata": {
  "kernelspec": {
   "display_name": "Python 3 (ipykernel)",
   "language": "python",
   "name": "python3"
  },
  "language_info": {
   "codemirror_mode": {
    "name": "ipython",
    "version": 3
   },
   "file_extension": ".py",
   "mimetype": "text/x-python",
   "name": "python",
   "nbconvert_exporter": "python",
   "pygments_lexer": "ipython3",
   "version": "3.9.6"
  }
 },
 "nbformat": 4,
 "nbformat_minor": 5
}
