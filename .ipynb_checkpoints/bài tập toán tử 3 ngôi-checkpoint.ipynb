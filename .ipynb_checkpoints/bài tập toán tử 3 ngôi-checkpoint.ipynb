{
 "cells": [
  {
   "cell_type": "code",
   "execution_count": 2,
   "id": "8820302e",
   "metadata": {},
   "outputs": [
    {
     "name": "stdout",
     "output_type": "stream",
     "text": [
      "Nhập vào số bất kỳ: 8\n",
      "8 là số chẵn\n"
     ]
    }
   ],
   "source": [
    "# BÀI TẬP TOÁN TỬ 3 NGÔI\n",
    "num = int(input(\"Nhập vào số bất kỳ: \"))\n",
    "msg = \"số lẻ\" if not num%2 ==0 else \"số chẵn\"\n",
    "print(f\"{num} là {msg}\")"
   ]
  }
 ],
 "metadata": {
  "kernelspec": {
   "display_name": "Python 3 (ipykernel)",
   "language": "python",
   "name": "python3"
  },
  "language_info": {
   "codemirror_mode": {
    "name": "ipython",
    "version": 3
   },
   "file_extension": ".py",
   "mimetype": "text/x-python",
   "name": "python",
   "nbconvert_exporter": "python",
   "pygments_lexer": "ipython3",
   "version": "3.9.6"
  }
 },
 "nbformat": 4,
 "nbformat_minor": 5
}
