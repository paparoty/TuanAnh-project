{
 "cells": [
  {
   "cell_type": "code",
   "execution_count": null,
   "id": "875f891c",
   "metadata": {},
   "outputs": [],
   "source": [
    "''''\n",
    "1. ĐỊNH NGHĨA\n",
    "Set trong python là gì?\n",
    "\n",
    "Set trong python là một tập các giá trị  không có thứ tự. Mỗi giá trị trong set là duy nhất,\n",
    "không thể lặp lại và bất biến( tức bạn không thể thay đổi giá trị các phần tử trong set).\n",
    "\n",
    "Tuy nhiên các set có thể thay đổi. Chúng ta có thể thêm, xóa các phần tử trong set.\n",
    "\n",
    "Các set  có thể được sử dụng để thực hiện các phép tập hợp như phép giao, hợp, …"
   ]
  },
  {
   "cell_type": "code",
   "execution_count": null,
   "id": "ebaa2c6a",
   "metadata": {},
   "outputs": [],
   "source": [
    "''''\n",
    "Cách tạo một set trong python\n",
    "\n",
    "Mỗi set được tạo bằng cách đặt các phần tử của nó vào trong dấu {}, được phân tách bằng dấu phẩy,\n",
    "hoặc sử dụng hàm dựng sẵn set().\n",
    "\n",
    "Các phần tử của set có thể thuộc nhiều kiểu dữ liệu khác  nhau như: numbers, string,… \n",
    "Nhưng các phần tử không được là các kiểu dữ liệu có thể thay đổi như list hay dictionary.\n",
    "\n",
    "Lưu ý nếu các phần tử trong set trùng nhau, sẽ tự động loại bỏ phần tử bị trùng lặp.\n"
   ]
  },
  {
   "cell_type": "code",
   "execution_count": 3,
   "id": "00a802da",
   "metadata": {},
   "outputs": [
    {
     "name": "stdout",
     "output_type": "stream",
     "text": [
      "4\n",
      "5\n",
      "6\n",
      "7\n"
     ]
    }
   ],
   "source": [
    "'''\n",
    "Truy cập các phần tử trong set\n",
    "Không thể truy cập đến một phần tử thông qua vị trí của chúng, vì set không có thứ tự các phần tử.\n",
    "Thay vào đó, ta phải sử dụng vòng for .\n",
    "'''\n",
    "myset = {5,7,6,4}\n",
    "for item in myset:\n",
    "    print(item)"
   ]
  },
  {
   "cell_type": "code",
   "execution_count": 5,
   "id": "334b1089",
   "metadata": {},
   "outputs": [
    {
     "name": "stdout",
     "output_type": "stream",
     "text": [
      "{4, 5, 6, 7, 8}\n",
      "{4, 5, 6, 7, 8, 'hello'}\n",
      "{'john', 'loc', 'lina', 'anh', 'hary', 'hieu', 'hoai'}\n"
     ]
    }
   ],
   "source": [
    "'''\n",
    "Thêm phần tử\n",
    "Chúng ta có thể thêm một phần tử vào set trong python bằng cách sử dụng hàm add()\n",
    "hoăc thêm nhiều bằng cách sử dụng hàm update().\n",
    "'''\n",
    "myset = {4,8,7,5}\n",
    " \n",
    "#thêm một số vào setset\n",
    "myset.add(6)\n",
    "print(myset) #return {4, 5, 6, 7, 8}\n",
    " \n",
    "#thêm một chuỗi cũng làm như thêm một số vậy\n",
    "myset.add(\"hello\")\n",
    "print(myset) #retrun {4, 5, 6, 7, 8, 'hello'}\n",
    "\n",
    "\n",
    "# Sử dụng hàm update() để cập nhật set.\n",
    "\n",
    " \n",
    "name={'hieu', 'hoai', 'anh', 'loc'}\n",
    "name.update(['john', 'lina', 'hary'])\n",
    "print(name)\n"
   ]
  },
  {
   "cell_type": "code",
   "execution_count": 10,
   "id": "1b5d9a83",
   "metadata": {},
   "outputs": [
    {
     "ename": "SyntaxError",
     "evalue": "invalid syntax (Temp/ipykernel_11352/2961441937.py, line 38)",
     "output_type": "error",
     "traceback": [
      "\u001b[1;36m  File \u001b[1;32m\"C:\\Users\\kstra\\AppData\\Local\\Temp/ipykernel_11352/2961441937.py\"\u001b[1;36m, line \u001b[1;32m38\u001b[0m\n\u001b[1;33m    Với hàm clear() sẽ xóa toàn bộ các phần tử trong set.\u001b[0m\n\u001b[1;37m        ^\u001b[0m\n\u001b[1;31mSyntaxError\u001b[0m\u001b[1;31m:\u001b[0m invalid syntax\n"
     ]
    }
   ],
   "source": [
    "'''\n",
    "LOẠI BỎ PHẦN TỬ TRONG SET\n",
    "\n",
    "Để loại bỏ một phần tử trong set có nhiều cách.\n",
    "'''\n",
    "# Hàm removed\n",
    "\n",
    "thisset = {\"apple\", \"banana\", \"cherry\"}\n",
    "#xóa phần tử \"banana\n",
    "thisset.remove(\"banana\")\n",
    "print(thisset)\n",
    "\n",
    "# Nếu xóa phần tử bằng remove thì trong trường hợp phần tử cần xóa không có trong set thì sẽ phát sinh lỗi.\n",
    "#----------------------------------------------------------\n",
    "\n",
    "# Hàm discard\n",
    "\n",
    "thisset = {\"apple\", \"banana\", \"cherry\"}\n",
    "thisset.discard(\"banana\")\n",
    "print(thisset)\n",
    " \n",
    "# Khi xóa bằng discard, nếu phần tử không có trong set thì sẽ không phát sinh lỗi.\n",
    "#---------------------------------------------------------\n",
    "\n",
    "# Hàm pop\n",
    "# popsẽ xóa phần tử cuối cùng, nên cẩn thận khi sử dụng popvì bạn sẽ không biết được phần tử cuối cùng là phần tử nào.\n",
    "\n",
    "thisset = {\"apple\", \"banana\", \"cherry\"}\n",
    "\n",
    "x = thisset.pop()\n",
    "print(x) # trong trường hợp này phần tử cuối cùng là 'apple'\n",
    "\n",
    "print(thisset)\n",
    "\n",
    "#-----------------------------------------------------------\n",
    "\n",
    "# Hàm clear\n",
    "# Với hàm clear() sẽ xóa toàn bộ các phần tử trong set.\n",
    "\n",
    "thisset = {\"apple\", \"banana\", \"cherry\"}\n",
    "thisset.clear()\n",
    "print(thisset)\n",
    "\n",
    "#--------------------------------------------------\n",
    " \n"
   ]
  },
  {
   "cell_type": "code",
   "execution_count": 9,
   "id": "5ce143f2",
   "metadata": {},
   "outputs": [
    {
     "ename": "NameError",
     "evalue": "name 'thisset' is not defined",
     "output_type": "error",
     "traceback": [
      "\u001b[1;31m---------------------------------------------------------------------------\u001b[0m",
      "\u001b[1;31mNameError\u001b[0m                                 Traceback (most recent call last)",
      "\u001b[1;32m~\\AppData\\Local\\Temp/ipykernel_11352/1412206809.py\u001b[0m in \u001b[0;36m<module>\u001b[1;34m\u001b[0m\n\u001b[0;32m      5\u001b[0m \u001b[0mthisset\u001b[0m \u001b[1;33m=\u001b[0m \u001b[1;33m{\u001b[0m\u001b[1;34m\"apple\"\u001b[0m\u001b[1;33m,\u001b[0m \u001b[1;34m\"banana\"\u001b[0m\u001b[1;33m,\u001b[0m \u001b[1;34m\"cherry\"\u001b[0m\u001b[1;33m}\u001b[0m\u001b[1;33m\u001b[0m\u001b[1;33m\u001b[0m\u001b[0m\n\u001b[0;32m      6\u001b[0m \u001b[1;32mdel\u001b[0m \u001b[0mthisset\u001b[0m\u001b[1;33m\u001b[0m\u001b[1;33m\u001b[0m\u001b[0m\n\u001b[1;32m----> 7\u001b[1;33m \u001b[0mprint\u001b[0m\u001b[1;33m(\u001b[0m\u001b[0mthisset\u001b[0m\u001b[1;33m)\u001b[0m\u001b[1;33m\u001b[0m\u001b[1;33m\u001b[0m\u001b[0m\n\u001b[0m\u001b[0;32m      8\u001b[0m \u001b[1;33m\u001b[0m\u001b[0m\n\u001b[0;32m      9\u001b[0m \u001b[1;33m\u001b[0m\u001b[0m\n",
      "\u001b[1;31mNameError\u001b[0m: name 'thisset' is not defined"
     ]
    }
   ],
   "source": [
    "# Hàm del\n",
    "# Hàm del sẽ xóa set trong python.\n",
    "\n",
    " \n",
    "thisset = {\"apple\", \"banana\", \"cherry\"}\n",
    "del thisset\n",
    "print(thisset)\n",
    " \n",
    "\n",
    "# Vì lúc này set đã bị xóa nên khi gọi hàm printsẽ thông báo lỗi."
   ]
  },
  {
   "cell_type": "code",
   "execution_count": null,
   "id": "53eab624",
   "metadata": {},
   "outputs": [],
   "source": []
  }
 ],
 "metadata": {
  "kernelspec": {
   "display_name": "Python 3 (ipykernel)",
   "language": "python",
   "name": "python3"
  },
  "language_info": {
   "codemirror_mode": {
    "name": "ipython",
    "version": 3
   },
   "file_extension": ".py",
   "mimetype": "text/x-python",
   "name": "python",
   "nbconvert_exporter": "python",
   "pygments_lexer": "ipython3",
   "version": "3.9.7"
  }
 },
 "nbformat": 4,
 "nbformat_minor": 5
}
