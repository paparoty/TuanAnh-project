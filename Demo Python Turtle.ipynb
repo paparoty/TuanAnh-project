{
 "cells": [
  {
   "cell_type": "markdown",
   "id": "dc718fde",
   "metadata": {},
   "source": [
    "# TÌM HIỂU THƯ VIỆN TURTLE\n",
    "1. Sử dụng lệnh PIP\n",
    "2. Thư viện Turtle\n",
    "3. Điều khiển chuyển động trong turle\n",
    "4. Điều khiển nét bút trong turtle"
   ]
  },
  {
   "cell_type": "markdown",
   "id": "df7065ed",
   "metadata": {},
   "source": [
    "## LỆNH PIP\n",
    "PIP là một trình quản lý gói cho Python, cho phép cài đặt và\n",
    "quản lý các thư viện và dependency mà không được phân\n",
    "phối như một phần của thư viện chuẩn của Python.\n",
    "> pip command"
   ]
  },
  {
   "cell_type": "markdown",
   "id": "f33877e9",
   "metadata": {},
   "source": [
    "Để kiểm tra pip đang chạy trên máy tính, chúng ta có thể sử dụng command:\n",
    "Để chạy các command trong hệ thống (không phải code python), chúng ta sẽ đặt dấu ! ngay đầu dòng"
   ]
  },
  {
   "cell_type": "code",
   "execution_count": 1,
   "id": "176a259c",
   "metadata": {},
   "outputs": [
    {
     "name": "stdout",
     "output_type": "stream",
     "text": [
      "pip 21.1.3 from c:\\users\\tuan anh\\appdata\\local\\programs\\python\\python39\\lib\\site-packages\\pip (python 3.9)\n",
      "\n"
     ]
    }
   ],
   "source": [
    "! pip --version"
   ]
  },
  {
   "cell_type": "code",
   "execution_count": 2,
   "id": "e8148bd5",
   "metadata": {},
   "outputs": [
    {
     "name": "stdout",
     "output_type": "stream",
     "text": [
      "Collecting turtle\n",
      "  Downloading turtle-0.0.2.tar.gz (11 kB)\n",
      "  Downloading turtle-0.0.1.tar.gz (10 kB)\n",
      "Collecting PyYAML>=3.08\n",
      "  Downloading PyYAML-5.4.1-cp39-cp39-win_amd64.whl (213 kB)\n",
      "Using legacy 'setup.py install' for turtle, since package 'wheel' is not installed.\n",
      "Installing collected packages: PyYAML, turtle\n",
      "    Running setup.py install for turtle: started\n",
      "    Running setup.py install for turtle: finished with status 'done'\n",
      "Successfully installed PyYAML-5.4.1 turtle-0.0.1\n"
     ]
    },
    {
     "name": "stderr",
     "output_type": "stream",
     "text": [
      "    ERROR: Command errored out with exit status 1:\n",
      "     command: 'c:\\users\\tuan anh\\appdata\\local\\programs\\python\\python39\\python.exe' -c 'import io, os, sys, setuptools, tokenize; sys.argv[0] = '\"'\"'C:\\\\Users\\\\tuan anh\\\\AppData\\\\Local\\\\Temp\\\\pip-install-f9j7sn39\\\\turtle_b8b10edfd77e42189c07bf34fd8d9618\\\\setup.py'\"'\"'; __file__='\"'\"'C:\\\\Users\\\\tuan anh\\\\AppData\\\\Local\\\\Temp\\\\pip-install-f9j7sn39\\\\turtle_b8b10edfd77e42189c07bf34fd8d9618\\\\setup.py'\"'\"';f = getattr(tokenize, '\"'\"'open'\"'\"', open)(__file__) if os.path.exists(__file__) else io.StringIO('\"'\"'from setuptools import setup; setup()'\"'\"');code = f.read().replace('\"'\"'\\r\\n'\"'\"', '\"'\"'\\n'\"'\"');f.close();exec(compile(code, __file__, '\"'\"'exec'\"'\"'))' egg_info --egg-base 'C:\\Users\\tuan anh\\AppData\\Local\\Temp\\pip-pip-egg-info-tqza0c7n'\n",
      "         cwd: C:\\Users\\tuan anh\\AppData\\Local\\Temp\\pip-install-f9j7sn39\\turtle_b8b10edfd77e42189c07bf34fd8d9618\\\n",
      "    Complete output (6 lines):\n",
      "    Traceback (most recent call last):\n",
      "      File \"<string>\", line 1, in <module>\n",
      "      File \"C:\\Users\\tuan anh\\AppData\\Local\\Temp\\pip-install-f9j7sn39\\turtle_b8b10edfd77e42189c07bf34fd8d9618\\setup.py\", line 40\n",
      "        except ValueError, ve:\n",
      "                         ^\n",
      "    SyntaxError: invalid syntax\n",
      "    ----------------------------------------\n",
      "WARNING: Discarding https://files.pythonhosted.org/packages/ff/f0/21a42e9e424d24bdd0e509d5ed3c7dfb8f47d962d9c044dba903b0b4a26f/turtle-0.0.2.tar.gz#sha256=edff7868ddfeba60cb2dcc3fb2218f29fd042ab697dcac0723e3e16a330979dd (from https://pypi.org/simple/turtle/). Command errored out with exit status 1: python setup.py egg_info Check the logs for full command output.\n",
      "WARNING: You are using pip version 21.1.3; however, version 21.2.4 is available.\n",
      "You should consider upgrading via the 'c:\\users\\tuan anh\\appdata\\local\\programs\\python\\python39\\python.exe -m pip install --upgrade pip' command.\n"
     ]
    }
   ],
   "source": [
    "! pip install turtle"
   ]
  },
  {
   "cell_type": "code",
   "execution_count": 3,
   "id": "58e29293",
   "metadata": {},
   "outputs": [
    {
     "name": "stderr",
     "output_type": "stream",
     "text": [
      "'import' is not recognized as an internal or external command,\n",
      "operable program or batch file.\n"
     ]
    }
   ],
   "source": [
    "! import turtle"
   ]
  },
  {
   "cell_type": "code",
   "execution_count": 7,
   "id": "83fc6602",
   "metadata": {},
   "outputs": [
    {
     "name": "stderr",
     "output_type": "stream",
     "text": [
      "'import' is not recognized as an internal or external command,\n",
      "operable program or batch file.\n"
     ]
    }
   ],
   "source": [
    "! import turtle"
   ]
  },
  {
   "cell_type": "code",
   "execution_count": 8,
   "id": "a9ee85af",
   "metadata": {},
   "outputs": [],
   "source": [
    "import turtle"
   ]
  },
  {
   "cell_type": "markdown",
   "id": "5de29f0c",
   "metadata": {},
   "source": [
    "# THƯ VIỆN TURLTE\n",
    "- Turtle graphic là một chương trình con có sẵn trong python khi bạn đã cài Python lên máy\n",
    "- Turtle được xem như một cây bút vẽ, di chuyển đến đâu là vẽ hình đến đó"
   ]
  },
  {
   "cell_type": "markdown",
   "id": "41610170",
   "metadata": {},
   "source": [
    "### Cài đặt thư viện turtle với pip"
   ]
  },
  {
   "cell_type": "code",
   "execution_count": null,
   "id": "269755c7",
   "metadata": {},
   "outputs": [],
   "source": []
  },
  {
   "cell_type": "code",
   "execution_count": null,
   "id": "28256d23",
   "metadata": {},
   "outputs": [],
   "source": []
  },
  {
   "cell_type": "markdown",
   "id": "327a8a11",
   "metadata": {},
   "source": [
    "### Sử dụng turtle"
   ]
  },
  {
   "cell_type": "markdown",
   "id": "10e0be43",
   "metadata": {},
   "source": [
    "Bước 1: Import module turle\n"
   ]
  },
  {
   "cell_type": "code",
   "execution_count": 13,
   "id": "781d6b32",
   "metadata": {},
   "outputs": [],
   "source": [
    "import turtle"
   ]
  },
  {
   "cell_type": "markdown",
   "id": "d20f3f3f",
   "metadata": {},
   "source": [
    "Bước 2: Tạo đối tượng turle"
   ]
  },
  {
   "cell_type": "code",
   "execution_count": 18,
   "id": "9d62ff7d",
   "metadata": {},
   "outputs": [],
   "source": [
    "pen = turtle.Turtle()"
   ]
  },
  {
   "cell_type": "markdown",
   "id": "62a000c8",
   "metadata": {},
   "source": [
    "Bước 3: Vẽ bằng các phương thức của turtle"
   ]
  },
  {
   "cell_type": "code",
   "execution_count": 16,
   "id": "b772347e",
   "metadata": {},
   "outputs": [
    {
     "ename": "TclError",
     "evalue": "invalid command name \".!canvas\"",
     "output_type": "error",
     "traceback": [
      "\u001b[1;31m---------------------------------------------------------------------------\u001b[0m",
      "\u001b[1;31mTclError\u001b[0m                                  Traceback (most recent call last)",
      "\u001b[1;32mC:\\Users\\TUANAN~1\\AppData\\Local\\Temp/ipykernel_4320/3567899035.py\u001b[0m in \u001b[0;36m<module>\u001b[1;34m\u001b[0m\n\u001b[1;32m----> 1\u001b[1;33m \u001b[0mpen\u001b[0m\u001b[1;33m.\u001b[0m\u001b[0mforward\u001b[0m\u001b[1;33m(\u001b[0m\u001b[1;36m150\u001b[0m\u001b[1;33m)\u001b[0m\u001b[1;33m\u001b[0m\u001b[1;33m\u001b[0m\u001b[0m\n\u001b[0m\u001b[0;32m      2\u001b[0m \u001b[0mpen\u001b[0m\u001b[1;33m.\u001b[0m\u001b[0mbackward\u001b[0m\u001b[1;33m(\u001b[0m\u001b[1;36m150\u001b[0m\u001b[1;33m)\u001b[0m\u001b[1;33m\u001b[0m\u001b[1;33m\u001b[0m\u001b[0m\n",
      "\u001b[1;32mc:\\users\\tuan anh\\appdata\\local\\programs\\python\\python39\\lib\\turtle.py\u001b[0m in \u001b[0;36mforward\u001b[1;34m(self, distance)\u001b[0m\n\u001b[0;32m   1636\u001b[0m         \u001b[1;33m(\u001b[0m\u001b[1;33m-\u001b[0m\u001b[1;36m50.00\u001b[0m\u001b[1;33m,\u001b[0m\u001b[1;36m0.00\u001b[0m\u001b[1;33m)\u001b[0m\u001b[1;33m\u001b[0m\u001b[1;33m\u001b[0m\u001b[0m\n\u001b[0;32m   1637\u001b[0m         \"\"\"\n\u001b[1;32m-> 1638\u001b[1;33m         \u001b[0mself\u001b[0m\u001b[1;33m.\u001b[0m\u001b[0m_go\u001b[0m\u001b[1;33m(\u001b[0m\u001b[0mdistance\u001b[0m\u001b[1;33m)\u001b[0m\u001b[1;33m\u001b[0m\u001b[1;33m\u001b[0m\u001b[0m\n\u001b[0m\u001b[0;32m   1639\u001b[0m \u001b[1;33m\u001b[0m\u001b[0m\n\u001b[0;32m   1640\u001b[0m     \u001b[1;32mdef\u001b[0m \u001b[0mback\u001b[0m\u001b[1;33m(\u001b[0m\u001b[0mself\u001b[0m\u001b[1;33m,\u001b[0m \u001b[0mdistance\u001b[0m\u001b[1;33m)\u001b[0m\u001b[1;33m:\u001b[0m\u001b[1;33m\u001b[0m\u001b[1;33m\u001b[0m\u001b[0m\n",
      "\u001b[1;32mc:\\users\\tuan anh\\appdata\\local\\programs\\python\\python39\\lib\\turtle.py\u001b[0m in \u001b[0;36m_go\u001b[1;34m(self, distance)\u001b[0m\n\u001b[0;32m   1604\u001b[0m         \u001b[1;34m\"\"\"move turtle forward by specified distance\"\"\"\u001b[0m\u001b[1;33m\u001b[0m\u001b[1;33m\u001b[0m\u001b[0m\n\u001b[0;32m   1605\u001b[0m         \u001b[0mende\u001b[0m \u001b[1;33m=\u001b[0m \u001b[0mself\u001b[0m\u001b[1;33m.\u001b[0m\u001b[0m_position\u001b[0m \u001b[1;33m+\u001b[0m \u001b[0mself\u001b[0m\u001b[1;33m.\u001b[0m\u001b[0m_orient\u001b[0m \u001b[1;33m*\u001b[0m \u001b[0mdistance\u001b[0m\u001b[1;33m\u001b[0m\u001b[1;33m\u001b[0m\u001b[0m\n\u001b[1;32m-> 1606\u001b[1;33m         \u001b[0mself\u001b[0m\u001b[1;33m.\u001b[0m\u001b[0m_goto\u001b[0m\u001b[1;33m(\u001b[0m\u001b[0mende\u001b[0m\u001b[1;33m)\u001b[0m\u001b[1;33m\u001b[0m\u001b[1;33m\u001b[0m\u001b[0m\n\u001b[0m\u001b[0;32m   1607\u001b[0m \u001b[1;33m\u001b[0m\u001b[0m\n\u001b[0;32m   1608\u001b[0m     \u001b[1;32mdef\u001b[0m \u001b[0m_rotate\u001b[0m\u001b[1;33m(\u001b[0m\u001b[0mself\u001b[0m\u001b[1;33m,\u001b[0m \u001b[0mangle\u001b[0m\u001b[1;33m)\u001b[0m\u001b[1;33m:\u001b[0m\u001b[1;33m\u001b[0m\u001b[1;33m\u001b[0m\u001b[0m\n",
      "\u001b[1;32mc:\\users\\tuan anh\\appdata\\local\\programs\\python\\python39\\lib\\turtle.py\u001b[0m in \u001b[0;36m_goto\u001b[1;34m(self, end)\u001b[0m\n\u001b[0;32m   3157\u001b[0m                       (self.currentLineItem,\n\u001b[0;32m   3158\u001b[0m                       \u001b[0mself\u001b[0m\u001b[1;33m.\u001b[0m\u001b[0mcurrentLine\u001b[0m\u001b[1;33m[\u001b[0m\u001b[1;33m:\u001b[0m\u001b[1;33m]\u001b[0m\u001b[1;33m,\u001b[0m\u001b[1;33m\u001b[0m\u001b[1;33m\u001b[0m\u001b[0m\n\u001b[1;32m-> 3159\u001b[1;33m                       \u001b[0mscreen\u001b[0m\u001b[1;33m.\u001b[0m\u001b[0m_pointlist\u001b[0m\u001b[1;33m(\u001b[0m\u001b[0mself\u001b[0m\u001b[1;33m.\u001b[0m\u001b[0mcurrentLineItem\u001b[0m\u001b[1;33m)\u001b[0m\u001b[1;33m,\u001b[0m\u001b[1;33m\u001b[0m\u001b[1;33m\u001b[0m\u001b[0m\n\u001b[0m\u001b[0;32m   3160\u001b[0m                       self.items[:])\n\u001b[0;32m   3161\u001b[0m                       )\n",
      "\u001b[1;32mc:\\users\\tuan anh\\appdata\\local\\programs\\python\\python39\\lib\\turtle.py\u001b[0m in \u001b[0;36m_pointlist\u001b[1;34m(self, item)\u001b[0m\n\u001b[0;32m    752\u001b[0m         (9.9999999999999982, 0.0)]\n\u001b[0;32m    753\u001b[0m         >>> \"\"\"\n\u001b[1;32m--> 754\u001b[1;33m         \u001b[0mcl\u001b[0m \u001b[1;33m=\u001b[0m \u001b[0mself\u001b[0m\u001b[1;33m.\u001b[0m\u001b[0mcv\u001b[0m\u001b[1;33m.\u001b[0m\u001b[0mcoords\u001b[0m\u001b[1;33m(\u001b[0m\u001b[0mitem\u001b[0m\u001b[1;33m)\u001b[0m\u001b[1;33m\u001b[0m\u001b[1;33m\u001b[0m\u001b[0m\n\u001b[0m\u001b[0;32m    755\u001b[0m         \u001b[0mpl\u001b[0m \u001b[1;33m=\u001b[0m \u001b[1;33m[\u001b[0m\u001b[1;33m(\u001b[0m\u001b[0mcl\u001b[0m\u001b[1;33m[\u001b[0m\u001b[0mi\u001b[0m\u001b[1;33m]\u001b[0m\u001b[1;33m,\u001b[0m \u001b[1;33m-\u001b[0m\u001b[0mcl\u001b[0m\u001b[1;33m[\u001b[0m\u001b[0mi\u001b[0m\u001b[1;33m+\u001b[0m\u001b[1;36m1\u001b[0m\u001b[1;33m]\u001b[0m\u001b[1;33m)\u001b[0m \u001b[1;32mfor\u001b[0m \u001b[0mi\u001b[0m \u001b[1;32min\u001b[0m \u001b[0mrange\u001b[0m\u001b[1;33m(\u001b[0m\u001b[1;36m0\u001b[0m\u001b[1;33m,\u001b[0m \u001b[0mlen\u001b[0m\u001b[1;33m(\u001b[0m\u001b[0mcl\u001b[0m\u001b[1;33m)\u001b[0m\u001b[1;33m,\u001b[0m \u001b[1;36m2\u001b[0m\u001b[1;33m)\u001b[0m\u001b[1;33m]\u001b[0m\u001b[1;33m\u001b[0m\u001b[1;33m\u001b[0m\u001b[0m\n\u001b[0;32m    756\u001b[0m         \u001b[1;32mreturn\u001b[0m  \u001b[0mpl\u001b[0m\u001b[1;33m\u001b[0m\u001b[1;33m\u001b[0m\u001b[0m\n",
      "\u001b[1;32m<string>\u001b[0m in \u001b[0;36mcoords\u001b[1;34m(self, *args, **kw)\u001b[0m\n",
      "\u001b[1;32mc:\\users\\tuan anh\\appdata\\local\\programs\\python\\python39\\lib\\tkinter\\__init__.py\u001b[0m in \u001b[0;36mcoords\u001b[1;34m(self, *args)\u001b[0m\n\u001b[0;32m   2764\u001b[0m         return [self.tk.getdouble(x) for x in\n\u001b[0;32m   2765\u001b[0m                            self.tk.splitlist(\n\u001b[1;32m-> 2766\u001b[1;33m                    self.tk.call((self._w, 'coords') + args))]\n\u001b[0m\u001b[0;32m   2767\u001b[0m \u001b[1;33m\u001b[0m\u001b[0m\n\u001b[0;32m   2768\u001b[0m     \u001b[1;32mdef\u001b[0m \u001b[0m_create\u001b[0m\u001b[1;33m(\u001b[0m\u001b[0mself\u001b[0m\u001b[1;33m,\u001b[0m \u001b[0mitemType\u001b[0m\u001b[1;33m,\u001b[0m \u001b[0margs\u001b[0m\u001b[1;33m,\u001b[0m \u001b[0mkw\u001b[0m\u001b[1;33m)\u001b[0m\u001b[1;33m:\u001b[0m \u001b[1;31m# Args: (val, val, ..., cnf={})\u001b[0m\u001b[1;33m\u001b[0m\u001b[1;33m\u001b[0m\u001b[0m\n",
      "\u001b[1;31mTclError\u001b[0m: invalid command name \".!canvas\""
     ]
    }
   ],
   "source": [
    "pen.forward(150)\n",
    "pen.backward(150)\n",
    "pen.left(90)\n",
    "pen.right(90)"
   ]
  },
  {
   "cell_type": "code",
   "execution_count": null,
   "id": "3333c899",
   "metadata": {},
   "outputs": [],
   "source": []
  },
  {
   "cell_type": "markdown",
   "id": "8e0f4830",
   "metadata": {},
   "source": [
    "Bước 4: Hoàn thành vẽ"
   ]
  },
  {
   "cell_type": "code",
   "execution_count": 15,
   "id": "8e4a076e",
   "metadata": {},
   "outputs": [],
   "source": [
    "turtle.done()"
   ]
  },
  {
   "cell_type": "markdown",
   "id": "850cff26",
   "metadata": {},
   "source": [
    "### Thực hành: Vẽ hình vuông"
   ]
  },
  {
   "cell_type": "code",
   "execution_count": 1,
   "id": "7e69bd76",
   "metadata": {},
   "outputs": [],
   "source": [
    "import turtle\n",
    "pen = turtle.Turtle()\n",
    "pen.forward(100)\n",
    "pen.left(90)\n",
    "pen.forward(100)\n",
    "pen.left(90)\n",
    "pen.forward(100)\n",
    "pen.left(90)\n",
    "pen.forward(100)\n",
    "turtle.done()"
   ]
  },
  {
   "cell_type": "markdown",
   "id": "5887d86b",
   "metadata": {},
   "source": [
    "### Thực hành: Vẽ hình tam giác đều"
   ]
  },
  {
   "cell_type": "code",
   "execution_count": 9,
   "id": "4bbbad3a",
   "metadata": {},
   "outputs": [],
   "source": [
    "import turtle\n",
    "pen = turtle.Turtle()\n",
    "pen.forward(150)\n",
    "pen.left(120)\n",
    "pen.forward(150)\n",
    "pen.left(120)\n",
    "pen.forward(150)\n",
    "turtle.done()"
   ]
  },
  {
   "cell_type": "markdown",
   "id": "286e4627",
   "metadata": {},
   "source": [
    "### Các lệnh điều khiển nét bút"
   ]
  },
  {
   "cell_type": "markdown",
   "id": "172501b8",
   "metadata": {},
   "source": [
    "Thay đổi kích thước của bút"
   ]
  },
  {
   "cell_type": "code",
   "execution_count": 19,
   "id": "7fb9025f",
   "metadata": {},
   "outputs": [],
   "source": [
    "pen.pensize(5)\n",
    "pen.forward(250)"
   ]
  },
  {
   "cell_type": "markdown",
   "id": "a2f89a48",
   "metadata": {},
   "source": [
    "Nhấc bút lên"
   ]
  },
  {
   "cell_type": "code",
   "execution_count": 20,
   "id": "e5ea9ef7",
   "metadata": {},
   "outputs": [
    {
     "ename": "TypeError",
     "evalue": "penup() takes 1 positional argument but 2 were given",
     "output_type": "error",
     "traceback": [
      "\u001b[1;31m---------------------------------------------------------------------------\u001b[0m",
      "\u001b[1;31mTypeError\u001b[0m                                 Traceback (most recent call last)",
      "\u001b[1;32mC:\\Users\\TUANAN~1\\AppData\\Local\\Temp/ipykernel_14296/1111095855.py\u001b[0m in \u001b[0;36m<module>\u001b[1;34m\u001b[0m\n\u001b[1;32m----> 1\u001b[1;33m \u001b[0mpen\u001b[0m\u001b[1;33m.\u001b[0m\u001b[0mpenup\u001b[0m\u001b[1;33m(\u001b[0m\u001b[1;36m50\u001b[0m\u001b[1;33m)\u001b[0m\u001b[1;33m\u001b[0m\u001b[1;33m\u001b[0m\u001b[0m\n\u001b[0m",
      "\u001b[1;31mTypeError\u001b[0m: penup() takes 1 positional argument but 2 were given"
     ]
    }
   ],
   "source": [
    "pen.penup(50)"
   ]
  },
  {
   "cell_type": "markdown",
   "id": "249ee9cd",
   "metadata": {},
   "source": [
    "Đặt bút xuống"
   ]
  },
  {
   "cell_type": "code",
   "execution_count": 24,
   "id": "cbb2b715",
   "metadata": {},
   "outputs": [],
   "source": [
    "pen.pendown()\n",
    "pen.forward(10)"
   ]
  },
  {
   "cell_type": "markdown",
   "id": "9a4a4e08",
   "metadata": {},
   "source": [
    "### Điều chỉnh màu sắc trong turtle"
   ]
  },
  {
   "cell_type": "markdown",
   "id": "767c4808",
   "metadata": {},
   "source": [
    "Thay đổi màu rùa"
   ]
  },
  {
   "cell_type": "code",
   "execution_count": 21,
   "id": "e8e0a962",
   "metadata": {},
   "outputs": [],
   "source": [
    "pen.fillcolor(\"#FF5733\")"
   ]
  },
  {
   "cell_type": "markdown",
   "id": "e587faf1",
   "metadata": {},
   "source": [
    "Thay đổi màu bút"
   ]
  },
  {
   "cell_type": "code",
   "execution_count": 22,
   "id": "4227ed0a",
   "metadata": {},
   "outputs": [],
   "source": [
    "pen.pencolor(\"#25CD5E\")"
   ]
  },
  {
   "cell_type": "markdown",
   "id": "9f9b669a",
   "metadata": {},
   "source": [
    "Thay đổi tốc độ"
   ]
  },
  {
   "cell_type": "code",
   "execution_count": 23,
   "id": "4f7bcc7b",
   "metadata": {},
   "outputs": [],
   "source": [
    "pen.speed(0.2)\n",
    "pen.forward(250)\n",
    "turtle"
   ]
  }
 ],
 "metadata": {
  "kernelspec": {
   "display_name": "Python 3 (ipykernel)",
   "language": "python",
   "name": "python3"
  },
  "language_info": {
   "codemirror_mode": {
    "name": "ipython",
    "version": 3
   },
   "file_extension": ".py",
   "mimetype": "text/x-python",
   "name": "python",
   "nbconvert_exporter": "python",
   "pygments_lexer": "ipython3",
   "version": "3.9.6"
  }
 },
 "nbformat": 4,
 "nbformat_minor": 5
}
