{
 "cells": [
  {
   "cell_type": "code",
   "execution_count": null,
   "id": "1925d81f",
   "metadata": {},
   "outputs": [
    {
     "name": "stdout",
     "output_type": "stream",
     "text": [
      "Nhập cạnh dài hcn: 100\n",
      "Nhập cạnh ngắn hcn: 50\n",
      "Mã màu cần tô (nhớ thêm dấu #): #3358FF\n",
      "Diện tích hình chữ nhật có cạnh dài 100 và cạnh ngắn  50 là:  5000\n",
      "Chu vi hình chữ nhật có cạnh dài 100 và cạnh ngắn  50 là:  300\n"
     ]
    }
   ],
   "source": [
    "# Nhập vào 02 cạnh hình chữ nhật, tính chu vi và diện tích, vẽ hình & tô màu\n",
    "# B1: Nhập vào 02 cạnh & gam màu cần tô\n",
    "a = int(input(\"Nhập cạnh dài hcn: \"))\n",
    "b = int(input(\"Nhập cạnh ngắn hcn: \"))\n",
    "Color_1 = input(\"Mã màu cần tô (nhớ thêm dấu #): \")\n",
    "# B2: Tính toán chu vi & Diện tích. In kết quả\n",
    "P = 2*(a+b)\n",
    "S = a*b\n",
    "print(\"Diện tích hình chữ nhật có cạnh dài\",a, \"và cạnh ngắn \",b, \"là: \",S)\n",
    "print(\"Chu vi hình chữ nhật có cạnh dài\",a, \"và cạnh ngắn \",b, \"là: \",P)\n",
    "# B3: Vẽ hình\n",
    "import turtle\n",
    "pen = turtle.Turtle()\n",
    "pen.fillcolor(Color_1)\n",
    "pen.begin_fill()\n",
    "pen.forward(a)\n",
    "pen.left(90)\n",
    "pen.forward(b)\n",
    "pen.left(90)\n",
    "pen.forward(a)\n",
    "pen.left(90)\n",
    "pen.forward(b)\n",
    "pen.left(90)\n",
    "pen.end_fill()\n",
    "turtle.done()"
   ]
  }
 ],
 "metadata": {
  "kernelspec": {
   "display_name": "Python 3 (ipykernel)",
   "language": "python",
   "name": "python3"
  },
  "language_info": {
   "codemirror_mode": {
    "name": "ipython",
    "version": 3
   },
   "file_extension": ".py",
   "mimetype": "text/x-python",
   "name": "python",
   "nbconvert_exporter": "python",
   "pygments_lexer": "ipython3",
   "version": "3.9.7"
  }
 },
 "nbformat": 4,
 "nbformat_minor": 5
}
