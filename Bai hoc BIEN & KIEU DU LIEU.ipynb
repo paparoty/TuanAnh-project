{
 "cells": [
  {
   "cell_type": "code",
   "execution_count": 2,
   "id": "a7009811",
   "metadata": {},
   "outputs": [],
   "source": [
    "# ĐỂ KHAI BÁO BIẾN, CHÚNG TA SẼ SỬ DỤNG CÚ PHÁP: tenbien = gia_tri_cua_bien\n",
    "course = \"Python\"\n",
    "#Course = \"Python advanced\"\n",
    "teacher_name = \"Long\""
   ]
  },
  {
   "cell_type": "code",
   "execution_count": 10,
   "id": "7b52c0f7",
   "metadata": {},
   "outputs": [
    {
     "name": "stdout",
     "output_type": "stream",
     "text": [
      "9\n",
      "<class 'int'>\n",
      "26.4\n",
      "<class 'float'>\n"
     ]
    }
   ],
   "source": [
    "# Biến kiểu int (số nguyên)\n",
    "month = 9\n",
    "print(month)\n",
    "print(type(month))\n",
    "# Biến kiểu float (số thực)\n",
    "degree = 26.4\n",
    "print(degree)\n",
    "print(type(degree))\n",
    "# Biển kiểu Boolean (đúng, sai)\n"
   ]
  },
  {
   "cell_type": "code",
   "execution_count": 6,
   "id": "4c2a1f74",
   "metadata": {},
   "outputs": [
    {
     "name": "stdout",
     "output_type": "stream",
     "text": [
      "Nam nay là :2017\n"
     ]
    }
   ],
   "source": [
    "# Kiểu Number\n",
    "year = 2017\n",
    "print(\"Nam nay là :\" + str(year))"
   ]
  },
  {
   "cell_type": "code",
   "execution_count": 4,
   "id": "88232615",
   "metadata": {},
   "outputs": [
    {
     "name": "stdout",
     "output_type": "stream",
     "text": [
      "2720.2\n"
     ]
    }
   ],
   "source": [
    "dollarExchangeRate = 2720.20\n",
    "print(dollarExchangeRate)"
   ]
  },
  {
   "cell_type": "code",
   "execution_count": 5,
   "id": "d0421dd3",
   "metadata": {},
   "outputs": [
    {
     "name": "stdout",
     "output_type": "stream",
     "text": [
      "Nam nay la 2017\n"
     ]
    }
   ],
   "source": [
    "# Kiểu String\n",
    "year = \"2017\"\n",
    "print(\"Nam nay la \" + year)"
   ]
  },
  {
   "cell_type": "code",
   "execution_count": 9,
   "id": "f72454f5",
   "metadata": {},
   "outputs": [
    {
     "name": "stdout",
     "output_type": "stream",
     "text": [
      "True\n",
      "True\n",
      "11\n"
     ]
    }
   ],
   "source": [
    "# Kiểu Boolean\n",
    "myBool = (5 > 2)\n",
    "print(myBool)\n",
    "myBool = (5 >= 5)\n",
    "print(myBool) # True\n",
    "print(10 + myBool) # 11"
   ]
  }
 ],
 "metadata": {
  "kernelspec": {
   "display_name": "Python 3 (ipykernel)",
   "language": "python",
   "name": "python3"
  },
  "language_info": {
   "codemirror_mode": {
    "name": "ipython",
    "version": 3
   },
   "file_extension": ".py",
   "mimetype": "text/x-python",
   "name": "python",
   "nbconvert_exporter": "python",
   "pygments_lexer": "ipython3",
   "version": "3.9.6"
  }
 },
 "nbformat": 4,
 "nbformat_minor": 5
}
