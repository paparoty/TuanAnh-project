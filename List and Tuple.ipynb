{
 "cells": [
  {
   "cell_type": "markdown",
   "metadata": {},
   "source": [
    "## Review: type()"
   ]
  },
  {
   "cell_type": "code",
   "execution_count": null,
   "metadata": {},
   "outputs": [],
   "source": [
    "# Python có 4 kiểu dữ liệu cơ bản\n",
    "integer = 1 2 3 4 ...\n",
    "float1 = 4.1254, 3.1416, ...\n",
    "string = \"hello\"\n",
    "boolean = True False"
   ]
  },
  {
   "cell_type": "markdown",
   "metadata": {},
   "source": [
    "## list là gì?"
   ]
  },
  {
   "cell_type": "code",
   "execution_count": 3,
   "metadata": {},
   "outputs": [
    {
     "name": "stdout",
     "output_type": "stream",
     "text": [
      "Member in group: Toàn, Chuẩn, Giang, Quân, Long\n"
     ]
    }
   ],
   "source": [
    "# Ví dụ\n",
    "def print_group_name(name_1, name_2, name_3, name_4, name_5):\n",
    "    print (f\"Member in group: {name_1}, {name_2}, {name_3}, {name_4}, {name_5}\")\n",
    "\n",
    "print_group_name(\"Toàn\", \"Chuẩn\", \"Giang\", \"Quân\", \"Long\")"
   ]
  },
  {
   "cell_type": "code",
   "execution_count": 8,
   "metadata": {},
   "outputs": [
    {
     "name": "stdout",
     "output_type": "stream",
     "text": [
      "Tommy\n",
      "['Andy', 'Bobby', 'Tommy', 'Emmy', 'Mark']\n"
     ]
    }
   ],
   "source": [
    "# Sử dụng list\n",
    "# List trong Python là một dạng dữ liệu cho phép lưu trữ nhiều kiểu dữ liệu khác nhau trong nó,\n",
    "# Và chúng ta có thể truy xuất đến các phần tử bên trong thông qua vị trí của nó trong list\n",
    "\n",
    "names = [\"Andy\", \"Bobby\", \"Tommy\", \"Emmy\", \"Mark\"]\n",
    "print(names[2])\n",
    "print(names[0:5])"
   ]
  },
  {
   "cell_type": "markdown",
   "metadata": {},
   "source": [
    "### Thực hành: Viết chương trình tạo ra một list các string khác nhau và đếm tổng số lượng string dài hơn 3 kí tự"
   ]
  },
  {
   "cell_type": "code",
   "execution_count": 16,
   "metadata": {},
   "outputs": [
    {
     "name": "stdout",
     "output_type": "stream",
     "text": [
      "3\n"
     ]
    }
   ],
   "source": [
    "list_string = [\"Sir\",'Momy','Daddy','Grandma']\n",
    "count = 0\n",
    "for i in list_string:\n",
    "    len(i)\n",
    "    if len(i)>3:\n",
    "        count +=1\n",
    "print (count)"
   ]
  },
  {
   "cell_type": "markdown",
   "metadata": {},
   "source": [
    "### Thực hành 2: Viết chương trình nhận vào 2 list và trả về True nếu 2 list có ít nhất 1 phần tử chung, ngược lại trả về False"
   ]
  },
  {
   "cell_type": "code",
   "execution_count": 17,
   "metadata": {},
   "outputs": [
    {
     "name": "stdout",
     "output_type": "stream",
     "text": [
      "5\n"
     ]
    }
   ],
   "source": []
  },
  {
   "cell_type": "markdown",
   "metadata": {},
   "source": [
    "## Các thao tác cơ bản với list"
   ]
  },
  {
   "cell_type": "markdown",
   "metadata": {},
   "source": [
    "### Kiểm tra độ dài list"
   ]
  },
  {
   "cell_type": "code",
   "execution_count": null,
   "metadata": {},
   "outputs": [],
   "source": [
    "a = [1, 2, 3, 4, 5]\n",
    "print(len(a))"
   ]
  },
  {
   "cell_type": "markdown",
   "metadata": {},
   "source": [
    "### Truy cập phần tử trên list"
   ]
  },
  {
   "cell_type": "code",
   "execution_count": null,
   "metadata": {},
   "outputs": [],
   "source": [
    "a = [1, 2, 3, 4, 5]\n",
    "print(a[2]) #3\n",
    "print(a[-3]) #3"
   ]
  },
  {
   "cell_type": "markdown",
   "metadata": {},
   "source": [
    "### Thực hành: Tạo một list 10 số tự nhiên và in ra các phần tử trong list"
   ]
  },
  {
   "cell_type": "code",
   "execution_count": 21,
   "metadata": {},
   "outputs": [
    {
     "name": "stdout",
     "output_type": "stream",
     "text": [
      "0 1 2 3 4 5 6 7 8 9 "
     ]
    }
   ],
   "source": [
    "nums = [0,1,2,3,4,5,6,7,8,9]\n",
    "for i in nums:\n",
    "    print (i,end=\" \")"
   ]
  },
  {
   "cell_type": "markdown",
   "metadata": {},
   "source": [
    "### Thực hành 2: Tạo ra một list con chưa 2 phần tử cuối cùng từ list đã tạo ở trên"
   ]
  },
  {
   "cell_type": "code",
   "execution_count": 24,
   "metadata": {},
   "outputs": [
    {
     "name": "stdout",
     "output_type": "stream",
     "text": [
      "[8, 9]\n"
     ]
    }
   ],
   "source": [
    "nums = [0,1,2,3,4,5,6,7,8,9]\n",
    "sub_list = []\n",
    "for i in nums:\n",
    "    sub_list = nums[8:]\n",
    "print (sub_list)"
   ]
  },
  {
   "cell_type": "markdown",
   "metadata": {},
   "source": [
    "### Cộng list"
   ]
  },
  {
   "cell_type": "code",
   "execution_count": 29,
   "metadata": {},
   "outputs": [
    {
     "name": "stdout",
     "output_type": "stream",
     "text": [
      "['Salad', 'Egg', 'Tomato']\n",
      "['Salad', 'Egg', 'Tomato', 'Onion']\n",
      "['chicken', 'Beef', 'Fish', 'Banana', 'Lemon', 'Orange', 'Strawberry']\n",
      "['Mon', 'Tue', 'Wed', 'Thur', 'Fri', 'Sat', 'Sun']\n",
      "['a', 'b', 'a', 'b', 'a', 'b', 'a', 'b', 'a', 'b']\n"
     ]
    }
   ],
   "source": [
    "# append: add 1 phần tử\n",
    "recipes = [\"Salad\", \"Egg\", \"Tomato\"]\n",
    "print(recipes)\n",
    "recipes.append(\"Onion\")\n",
    "print(recipes)\n",
    "\n",
    "# Phép cộng\n",
    "fruits = [\"Banana\", \"Lemon\", \"Orange\", \"Strawberry\"]\n",
    "meats = [\"chicken\", \"Beef\", \"Fish\"]\n",
    "joint_list = meats + fruits\n",
    "print(joint_list)\n",
    "\n",
    "# extend: add nhiều phần tử\n",
    "working_days = [\"Mon\",\"Tue\",\"Wed\",\"Thur\",\"Fri\"]\n",
    "working_days.extend([\"Sat\", \"Sun\"])\n",
    "print(working_days)\n",
    "\n",
    "# phép nhân\n",
    "print(['a', 'b']*5)"
   ]
  },
  {
   "cell_type": "markdown",
   "metadata": {},
   "source": [
    "### Thực hành: Thêm học sinh vào lớp"
   ]
  },
  {
   "cell_type": "code",
   "execution_count": 31,
   "metadata": {},
   "outputs": [
    {
     "name": "stdout",
     "output_type": "stream",
     "text": [
      "['Andy', 'Bobby', 'Tommy', 'Emmy', 'Mark', 'Toàn', 'Hội', 'Chuẩn']\n"
     ]
    }
   ],
   "source": [
    "list_students = [\"Andy\", \"Bobby\", \"Tommy\", \"Emmy\", \"Mark\"]\n",
    "list_students.extend([\"Toàn\",\"Hội\",\"Chuẩn\"]) \n",
    "print(list_students)"
   ]
  },
  {
   "cell_type": "code",
   "execution_count": 2,
   "metadata": {},
   "outputs": [
    {
     "name": "stdout",
     "output_type": "stream",
     "text": [
      "[1, 3, 5, 8]\n"
     ]
    }
   ],
   "source": [
    "a = [1,2,3,4,5,7,8,9]\n",
    "print (a[::2])"
   ]
  },
  {
   "cell_type": "markdown",
   "metadata": {},
   "source": [
    "### Kiểm tra phần tử tồn tại trong list"
   ]
  },
  {
   "cell_type": "code",
   "execution_count": 4,
   "metadata": {},
   "outputs": [
    {
     "name": "stdout",
     "output_type": "stream",
     "text": [
      "30 có tồn tại trong list\n",
      "30 có trong list\n",
      "30 có trong list\n"
     ]
    }
   ],
   "source": [
    "a = [10, 20, 30, 40, 50]\n",
    "# loop\n",
    "for  item in a:\n",
    "    if item == 30:\n",
    "        print (\"30 có tồn tại trong list\")\n",
    "        \n",
    "# in\n",
    "if 30 in a:\n",
    "    print (\"30 có trong list\")\n",
    "else:\n",
    "    pass\n",
    "\n",
    "# count\n",
    "if a.count(30) > 0:\n",
    "    print(\"30 có trong list\")"
   ]
  },
  {
   "cell_type": "markdown",
   "metadata": {},
   "source": [
    "### Xóa phần tử khỏi list"
   ]
  },
  {
   "cell_type": "code",
   "execution_count": 7,
   "metadata": {},
   "outputs": [
    {
     "name": "stdout",
     "output_type": "stream",
     "text": [
      "50\n",
      "[10, 20, 30, 40]\n",
      "20\n",
      "[10, 30, 40]\n"
     ]
    }
   ],
   "source": [
    "# pop sẽ xóa phần tử ra khỏi list và return giá trị vừa xóa\n",
    "a = [10, 20, 30, 40, 50]\n",
    "print (a.pop()) # xóa phần tử ở vị trí cuối cùng\n",
    "print (a)\n",
    "\n",
    "print (a.pop(1)) # xóa phần tử ở vị trí được chỉ định\n",
    "print (a)"
   ]
  },
  {
   "cell_type": "code",
   "execution_count": 8,
   "metadata": {},
   "outputs": [
    {
     "name": "stdout",
     "output_type": "stream",
     "text": [
      "[10, 30, 40, 50]\n"
     ]
    }
   ],
   "source": [
    "a = [10, 20, 30, 40, 50]\n",
    "# del sẽ xóa phần tử tại vị trí chỉ định ra khỏi list mà không có return\n",
    "del a[1]\n",
    "print(a)"
   ]
  },
  {
   "cell_type": "markdown",
   "metadata": {},
   "source": [
    "### Sắp xếp list"
   ]
  },
  {
   "cell_type": "code",
   "execution_count": 12,
   "metadata": {},
   "outputs": [
    {
     "name": "stdout",
     "output_type": "stream",
     "text": [
      "[1987, 1231, 1010, 345]\n",
      "[1987, 1231, 1010, 345]\n",
      "[1231, 345, 1987, 1010]\n"
     ]
    }
   ],
   "source": [
    "a = [1231, 345, 1987, 1010]\n",
    "# sort sắp xếp lại thứ tự và làm thay đổi luôn thứ tự element\n",
    "a.sort(reverse=True)\n",
    "print(a)\n",
    "\n",
    "# sorted sắp xếp lại thứ tự nhưng không làm thay đổi thứ tự element, return về giá trị mới\n",
    "a = [1231, 345, 1987, 1010]\n",
    "b = sorted(a, reverse = True)\n",
    "print (b)\n",
    "print (a)"
   ]
  },
  {
   "cell_type": "markdown",
   "metadata": {},
   "source": [
    "### Làm rỗng list"
   ]
  },
  {
   "cell_type": "code",
   "execution_count": 13,
   "metadata": {},
   "outputs": [
    {
     "name": "stdout",
     "output_type": "stream",
     "text": [
      "[10, 20, 30, 40, 50]\n",
      "[]\n"
     ]
    }
   ],
   "source": [
    "# clear\n",
    "a = [10, 20, 30, 40, 50]\n",
    "print(a)\n",
    "a.clear()\n",
    "print(a)"
   ]
  },
  {
   "cell_type": "markdown",
   "metadata": {},
   "source": [
    "### Copy list"
   ]
  },
  {
   "cell_type": "code",
   "execution_count": 15,
   "metadata": {},
   "outputs": [
    {
     "name": "stdout",
     "output_type": "stream",
     "text": [
      "Giá trị của list a: [1, 2, 3]\n",
      "Giá trị của list b: [1, 2, 3]\n",
      "Giá trị của list a sau khi xử lý: [1, 2, 3, 4]\n",
      "Giá trị của list b sau khi xử lý: [1, 2, 3, 4]\n",
      "Giá trị của list c: [1, 2, 3]\n",
      "Giá trị của list d: [1, 2, 3]\n",
      "Giá trị của list a sau khi xử lý: [1, 2, 3, 4]\n",
      "Giá trị của list b sau khi xử lý: [1, 2, 3]\n"
     ]
    }
   ],
   "source": [
    "a = [1, 2, 3]\n",
    "print(f\"Giá trị của list a: {a}\")\n",
    "\n",
    "b = a # ghi nhớ cùng 1 địa chỉ lưu dữ liệu của tập hợp\n",
    "print (f\"Giá trị của list b: {b}\")\n",
    "\n",
    "a.append(4)\n",
    "print (f\"Giá trị của list a sau khi xử lý: {a}\")\n",
    "print (f\"Giá trị của list b sau khi xử lý: {b}\")\n",
    "\n",
    "c = [1, 2, 3]\n",
    "d = c.copy() # tạo vùng lưu dữ liệu mới của tập hợp\n",
    "print (f\"Giá trị của list c: {c}\")\n",
    "print (f\"Giá trị của list d: {d}\")\n",
    "c.append(4)\n",
    "print (f\"Giá trị của list a sau khi xử lý: {c}\")\n",
    "print (f\"Giá trị của list b sau khi xử lý: {d}\")"
   ]
  },
  {
   "cell_type": "markdown",
   "metadata": {},
   "source": [
    "## tuple"
   ]
  },
  {
   "cell_type": "code",
   "execution_count": 19,
   "metadata": {},
   "outputs": [
    {
     "name": "stdout",
     "output_type": "stream",
     "text": [
      "<class 'tuple'>\n",
      "5\n",
      "(1, 2, 3, True, 'Hello')\n",
      "3\n",
      "------------------\n",
      "(1, 2, 3)\n",
      "------------------\n",
      "My name is Long, My course is Python\n"
     ]
    }
   ],
   "source": [
    "# Tuple trong python là 1 dạng dữ liệu mà các phần tử trong đó được sắp xếp theo thứ tự và không thể thay đổi được kiểu giá trị sau khi đã khai báo\n",
    "a = (1, 2, 3, True, \"Hello\")\n",
    "print(type(a))\n",
    "print(len(a))\n",
    "print(a)\n",
    "print(a[2])\n",
    "\n",
    "print(\"------------------\")\n",
    "\n",
    "# Tạo tuple từ list\n",
    "tuple_1 = tuple([1,2,3])\n",
    "print(tuple_1)\n",
    "print(\"------------------\")\n",
    "\n",
    "# unpacking\n",
    "info = (\"Long\",\"Python\")\n",
    "name, course = info\n",
    "print(f\"My name is {name}, My course is {course}\")"
   ]
  },
  {
   "cell_type": "code",
   "execution_count": null,
   "metadata": {},
   "outputs": [],
   "source": []
  }
 ],
 "metadata": {
  "kernelspec": {
   "display_name": "Python 3 (ipykernel)",
   "language": "python",
   "name": "python3"
  },
  "language_info": {
   "codemirror_mode": {
    "name": "ipython",
    "version": 3
   },
   "file_extension": ".py",
   "mimetype": "text/x-python",
   "name": "python",
   "nbconvert_exporter": "python",
   "pygments_lexer": "ipython3",
   "version": "3.9.7"
  }
 },
 "nbformat": 4,
 "nbformat_minor": 4
}
