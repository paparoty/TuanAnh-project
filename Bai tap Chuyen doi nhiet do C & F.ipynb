{
 "cells": [
  {
   "cell_type": "code",
   "execution_count": null,
   "id": "42648ed7",
   "metadata": {},
   "outputs": [],
   "source": [
    "# Thuat toan chuyen doi nhiet do"
   ]
  },
  {
   "cell_type": "code",
   "execution_count": null,
   "id": "b419c453",
   "metadata": {},
   "outputs": [],
   "source": [
    "import math\n",
    "# Nhập nhiệt độ C:\n",
    "C = input(\"Nhập nhiệt độ, độ C:\")\n",
    "# Công thuc chuyen doi\n",
    "F = (9*int(C))/5+32\n",
    "print (\"Nhiệt độ tương ứng độ F :\",F)"
   ]
  },
  {
   "cell_type": "code",
   "execution_count": 1,
   "id": "b324ac5e",
   "metadata": {},
   "outputs": [
    {
     "name": "stdout",
     "output_type": "stream",
     "text": [
      "Nhập nhiệt độ, độ F:100\n",
      "Nhiệt độ tương ứng độ C : 37.778\n"
     ]
    }
   ],
   "source": [
    "import math\n",
    "# Nhập nhiệt độ F:\n",
    "F = input(\"Nhập nhiệt độ, độ F:\")\n",
    "# Công thuc chuyen doi\n",
    "C = round((float(F)-32)/1.8,3)\n",
    "print (\"Nhiệt độ tương ứng độ C :\",C)"
   ]
  },
  {
   "cell_type": "code",
   "execution_count": null,
   "id": "a18db0b2",
   "metadata": {},
   "outputs": [],
   "source": []
  }
 ],
 "metadata": {
  "kernelspec": {
   "display_name": "Python 3 (ipykernel)",
   "language": "python",
   "name": "python3"
  },
  "language_info": {
   "codemirror_mode": {
    "name": "ipython",
    "version": 3
   },
   "file_extension": ".py",
   "mimetype": "text/x-python",
   "name": "python",
   "nbconvert_exporter": "python",
   "pygments_lexer": "ipython3",
   "version": "3.9.7"
  }
 },
 "nbformat": 4,
 "nbformat_minor": 5
}
