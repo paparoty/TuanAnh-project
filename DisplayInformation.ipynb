{
 "cells": [
  {
   "cell_type": "code",
   "execution_count": 2,
   "id": "cb32d862",
   "metadata": {},
   "outputs": [
    {
     "name": "stdout",
     "output_type": "stream",
     "text": [
      "hello\n"
     ]
    }
   ],
   "source": [
    "print(\"hello\")"
   ]
  },
  {
   "cell_type": "code",
   "execution_count": 4,
   "id": "cddc9f7c",
   "metadata": {},
   "outputs": [
    {
     "name": "stdout",
     "output_type": "stream",
     "text": [
      "****************************\n",
      "*Name: Tran Tuan Anh.......*\n",
      "*Center: CodeGym...........*\n",
      "*Course: Python Fundamental*\n",
      "****************************\n"
     ]
    }
   ],
   "source": [
    "print(\"****************************\")\n",
    "print(\"*Name: Tran Tuan Anh.......*\")\n",
    "print(\"*Center: CodeGym...........*\")\n",
    "print(\"*Course: Python Fundamental*\")\n",
    "print(\"****************************\")"
   ]
  }
 ],
 "metadata": {
  "kernelspec": {
   "display_name": "Python 3 (ipykernel)",
   "language": "python",
   "name": "python3"
  },
  "language_info": {
   "codemirror_mode": {
    "name": "ipython",
    "version": 3
   },
   "file_extension": ".py",
   "mimetype": "text/x-python",
   "name": "python",
   "nbconvert_exporter": "python",
   "pygments_lexer": "ipython3",
   "version": "3.9.6"
  }
 },
 "nbformat": 4,
 "nbformat_minor": 5
}
