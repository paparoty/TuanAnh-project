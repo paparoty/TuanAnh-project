{
 "cells": [
  {
   "cell_type": "markdown",
   "id": "f5bfda82",
   "metadata": {},
   "source": [
    "# Tkinter"
   ]
  },
  {
   "cell_type": "markdown",
   "id": "ae0ffe75",
   "metadata": {},
   "source": [
    "## Tkinter là gì?\n",
    "Tkinter là thư viện GUI tiêu chuẩn cho Python."
   ]
  },
  {
   "cell_type": "markdown",
   "id": "0261bfae",
   "metadata": {},
   "source": [
    "## Các bước tạo ứng dụng Tkinter\n",
    "**Bước 1:** Import Tkinter module\n",
    "\n",
    "**Bước 2:** Tạo ra cửa số chính cho ứng dụng \n",
    "\n",
    "**Bước 3:** Thêm một số widget cho ứng dụng\n",
    "\n",
    "**Bước 4:** Tạo vòng lặp sự kiện chính để các hành động có thể diễn ra trên màn hình máy tính của người dùng\n"
   ]
  },
  {
   "cell_type": "markdown",
   "id": "76515380",
   "metadata": {},
   "source": [
    "## Import Tkinter module"
   ]
  },
  {
   "cell_type": "code",
   "execution_count": 14,
   "id": "489b1b57",
   "metadata": {},
   "outputs": [],
   "source": [
    "from tkinter import *"
   ]
  },
  {
   "cell_type": "markdown",
   "id": "4c57604d",
   "metadata": {},
   "source": [
    "## Tạo ra cửa số cho ứng dụng"
   ]
  },
  {
   "cell_type": "code",
   "execution_count": 21,
   "id": "e1152482",
   "metadata": {},
   "outputs": [
    {
     "data": {
      "text/plain": [
       "''"
      ]
     },
     "execution_count": 21,
     "metadata": {},
     "output_type": "execute_result"
    }
   ],
   "source": [
    "windows = Tk()\n",
    "\n",
    "windows.title(\"Long's application\")\n",
    "\n",
    "# chạy ứng dụng\n"
   ]
  },
  {
   "cell_type": "markdown",
   "id": "e18a433e",
   "metadata": {},
   "source": [
    "## Thêm widget cho ứng dụng"
   ]
  },
  {
   "cell_type": "code",
   "execution_count": 22,
   "id": "f179b921",
   "metadata": {},
   "outputs": [],
   "source": [
    "content = Label(windows, text=\"Hello World!\").pack()"
   ]
  },
  {
   "cell_type": "code",
   "execution_count": 23,
   "id": "81aa8bb0",
   "metadata": {},
   "outputs": [],
   "source": [
    "windows.mainloop()"
   ]
  },
  {
   "cell_type": "code",
   "execution_count": 47,
   "id": "5528ff78",
   "metadata": {},
   "outputs": [
    {
     "data": {
      "text/plain": [
       "''"
      ]
     },
     "execution_count": 47,
     "metadata": {},
     "output_type": "execute_result"
    }
   ],
   "source": [
    "# khởi tạo cửa sổ tkinter\n",
    "from tkinter import *\n",
    "\n",
    "windows = Tk()\n",
    "\n",
    "windows.title(\"Demo Widgets\")"
   ]
  },
  {
   "cell_type": "code",
   "execution_count": null,
   "id": "2011b04f",
   "metadata": {},
   "outputs": [],
   "source": [
    "windows.mainloop()"
   ]
  },
  {
   "cell_type": "markdown",
   "id": "d9a9c986",
   "metadata": {},
   "source": [
    "## label"
   ]
  },
  {
   "cell_type": "code",
   "execution_count": 48,
   "id": "a3c55c19",
   "metadata": {},
   "outputs": [],
   "source": [
    "app_name = Label(windows, text=\"DEMO WIDGET\")\n",
    "app_name.pack()"
   ]
  },
  {
   "cell_type": "code",
   "execution_count": 49,
   "id": "42232b54",
   "metadata": {},
   "outputs": [],
   "source": [
    "label_text = Label(windows, text=\"LABEL\")\n",
    "label_text.pack()"
   ]
  },
  {
   "cell_type": "markdown",
   "id": "0bef2fda",
   "metadata": {},
   "source": [
    "## button"
   ]
  },
  {
   "cell_type": "code",
   "execution_count": 50,
   "id": "250e8c3c",
   "metadata": {},
   "outputs": [],
   "source": [
    "button_text = Label(windows, text=\"BUTTON\")\n",
    "button_text.pack()"
   ]
  },
  {
   "cell_type": "code",
   "execution_count": 51,
   "id": "658d2227",
   "metadata": {},
   "outputs": [],
   "source": [
    "def update_app_name():\n",
    "    app_name.config(text=\"PYTHON FUNDAMENTAL\")\n",
    "    \n",
    "change_text_button = Button(windows, text=\"Click to update text\", command=update_app_name)\n",
    "change_text_button.pack()"
   ]
  },
  {
   "cell_type": "markdown",
   "id": "8ccfaf1a",
   "metadata": {},
   "source": [
    "## entry"
   ]
  },
  {
   "cell_type": "code",
   "execution_count": 52,
   "id": "6135392c",
   "metadata": {},
   "outputs": [],
   "source": [
    "entry_text = Label(windows, text=\"ENTRY\")\n",
    "entry_text.pack()"
   ]
  },
  {
   "cell_type": "code",
   "execution_count": 53,
   "id": "f33e3698",
   "metadata": {},
   "outputs": [],
   "source": [
    "number = Entry(windows)\n",
    "number.pack()"
   ]
  },
  {
   "cell_type": "code",
   "execution_count": 54,
   "id": "43433dae",
   "metadata": {},
   "outputs": [],
   "source": [
    "def update_entry_text():\n",
    "    entry_text.config(text=number.get())  # number.get() dùng để lấy giá trị của entry number\n",
    "    \n",
    "update_button = Button(windows, text=\"Click to update value\", command=update_entry_text)\n",
    "update_button.pack()"
   ]
  },
  {
   "cell_type": "markdown",
   "id": "ab625f84",
   "metadata": {},
   "source": [
    "## combobox"
   ]
  },
  {
   "cell_type": "code",
   "execution_count": 26,
   "id": "c09023ba",
   "metadata": {},
   "outputs": [],
   "source": [
    "\n"
   ]
  },
  {
   "cell_type": "markdown",
   "id": "54d48750",
   "metadata": {},
   "source": [
    "## text"
   ]
  },
  {
   "cell_type": "code",
   "execution_count": null,
   "id": "a027c5d5",
   "metadata": {},
   "outputs": [],
   "source": []
  },
  {
   "cell_type": "markdown",
   "id": "385e724b",
   "metadata": {},
   "source": [
    "## messagebox"
   ]
  },
  {
   "cell_type": "code",
   "execution_count": null,
   "id": "d3ef2e2c",
   "metadata": {},
   "outputs": [],
   "source": []
  },
  {
   "cell_type": "markdown",
   "id": "e950af13",
   "metadata": {},
   "source": [
    "## checkbutton"
   ]
  },
  {
   "cell_type": "code",
   "execution_count": null,
   "id": "1dfda82c",
   "metadata": {},
   "outputs": [],
   "source": []
  },
  {
   "cell_type": "markdown",
   "id": "4d82d491",
   "metadata": {},
   "source": [
    "## Simple Calculator"
   ]
  },
  {
   "cell_type": "code",
   "execution_count": 25,
   "id": "9b7d0e0e",
   "metadata": {},
   "outputs": [],
   "source": [
    "from tkinter import *\n",
    "\n",
    "windows = Tk()\n",
    "windows.title(\"Simple Calculator\")\n",
    "windows.geometry(\"400x300\")\n",
    "\n",
    "number1 = Entry(windows)\n",
    "number1.pack()\n",
    "\n",
    "number2 = Entry(windows)\n",
    "number2.pack()\n",
    "\n",
    "def summary():\n",
    "    result = int(number1.get()) + int(number2.get())\n",
    "    result_label.config(text=result)\n",
    "\n",
    "def subtract():\n",
    "    result = int(number1.get()) - int(number2.get())\n",
    "    result_label.config(text=result)\n",
    "\n",
    "def multiply():\n",
    "    result = int(number1.get()) * int(number2.get())\n",
    "    result_label.config(text=result)\n",
    "\n",
    "def divide():\n",
    "    result = int(number1.get()) / int(number2.get())\n",
    "    result_label.config(text=result)\n",
    "\n",
    "plus_button = Button(windows, text=\"+\", command=summary, height=1, width=5)\n",
    "plus_button.pack()\n",
    "\n",
    "minus_button = Button(windows, text=\"-\", command=subtract, height=1, width=5)\n",
    "minus_button.pack()\n",
    "\n",
    "multiply_button = Button(windows, text=\"*\", command=multiply, height=1, width=5)\n",
    "multiply_button.pack()\n",
    "\n",
    "divide_button = Button(windows, text=\"/\", command=divide, height=1, width=5)\n",
    "divide_button.pack()\n",
    "\n",
    "result_label = Label(windows, text=\"Result\")\n",
    "result_label.pack()\n",
    "\n",
    "windows.mainloop()"
   ]
  }
 ],
 "metadata": {
  "kernelspec": {
   "display_name": "Python 3 (ipykernel)",
   "language": "python",
   "name": "python3"
  },
  "language_info": {
   "codemirror_mode": {
    "name": "ipython",
    "version": 3
   },
   "file_extension": ".py",
   "mimetype": "text/x-python",
   "name": "python",
   "nbconvert_exporter": "python",
   "pygments_lexer": "ipython3",
   "version": "3.9.6"
  }
 },
 "nbformat": 4,
 "nbformat_minor": 5
}
